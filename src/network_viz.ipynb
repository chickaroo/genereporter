{
 "cells": [
  {
   "cell_type": "code",
   "execution_count": 1,
   "metadata": {},
   "outputs": [
    {
     "name": "stderr",
     "output_type": "stream",
     "text": [
      "/var/folders/q4/ywlg60x9791g_364np64pv6m0000gn/T/ipykernel_22797/851524594.py:3: DeprecationWarning: \n",
      "Pyarrow will become a required dependency of pandas in the next major release of pandas (pandas 3.0),\n",
      "(to allow more performant data types, such as the Arrow string type, and better interoperability with other libraries)\n",
      "but was not found to be installed on your system.\n",
      "If this would cause problems for you,\n",
      "please provide us feedback at https://github.com/pandas-dev/pandas/issues/54466\n",
      "        \n",
      "  import pandas as pd\n"
     ]
    }
   ],
   "source": [
    "import os\n",
    "import numpy as np\n",
    "import pandas as pd\n",
    "from pyvis.network import Network\n",
    "import seaborn as sns"
   ]
  },
  {
   "cell_type": "code",
   "execution_count": 4,
   "metadata": {},
   "outputs": [],
   "source": [
    "# set GOI\n",
    "\n",
    "GOI = 'VAV3'"
   ]
  },
  {
   "cell_type": "code",
   "execution_count": 5,
   "metadata": {},
   "outputs": [],
   "source": [
    "# set a working directory\n",
    "wdir = \"/Users/samibening/Projects/Bachelor/\"\n",
    "os.chdir( wdir )\n",
    "\n",
    "f_adj = \"SCENICfiles/adj.csv\""
   ]
  },
  {
   "cell_type": "code",
   "execution_count": 6,
   "metadata": {},
   "outputs": [],
   "source": [
    "net = Network(notebook=True, select_menu=True, cdn_resources='remote', height='750px', width='100%', bgcolor=\"#222222\", font_color=\"white\")\n",
    "net.barnes_hut(gravity=-4000, central_gravity=1)"
   ]
  },
  {
   "cell_type": "code",
   "execution_count": 7,
   "metadata": {},
   "outputs": [],
   "source": [
    "def clean_target_genes(row):\n",
    "    return eval(row['TargetGenes'])"
   ]
  },
  {
   "cell_type": "code",
   "execution_count": 8,
   "metadata": {},
   "outputs": [
    {
     "data": {
      "text/plain": [
       "0       [(SNAPC1, 0.3106342842966851), (MCOLN1, 0.5420...\n",
       "1       [(KIAA1328, 0.3970861519089653), (FANCL, 0.461...\n",
       "2       [(C17orf97, 0.3100105285841538), (DACT2, 0.425...\n",
       "3       [(SENP8, 0.7902819247600439), (SPDEF, 0.367617...\n",
       "4       [(KTN1, 0.4799956278331701), (PHF3, 0.58684373...\n",
       "                              ...                        \n",
       "3367    [(TRIM26, 0.1201918626925179), (PGM5, 0.232152...\n",
       "3368    [(RNF146, 0.2550295040430109), (COL16A1, 0.382...\n",
       "3369    [(SLCO2B1, 0.3591370907224389), (NRXN2, 0.1067...\n",
       "3370    [(ETV3, 0.103677774272525), (FAAP100, 0.473556...\n",
       "3371    [(ZFYVE27, 0.1691535174831882), (OSER1, 0.0855...\n",
       "Length: 3372, dtype: object"
      ]
     },
     "execution_count": 8,
     "metadata": {},
     "output_type": "execute_result"
    }
   ],
   "source": [
    "adjacencies = pd.read_csv(os.path.join(wdir, f_adj))\n",
    "regulon = pd.read_csv(os.path.join(wdir, \"SCENICfiles/reg.csv\"))\n",
    "regulon.apply(clean_target_genes, axis=1)"
   ]
  },
  {
   "cell_type": "code",
   "execution_count": 82,
   "metadata": {},
   "outputs": [],
   "source": [
    "# find all regulons that have GOI (CASP8) in their target genes\n",
    "def find_regulons(df, GOI):\n",
    "    goi_regulons = regulon[regulon['TargetGenes'].str.contains(str(GOI+'\\''))]\n",
    "    return goi_regulons['TF'].values\n",
    "\n",
    "def make_regulon_dataframe(TF):\n",
    "    reg_df = pd.DataFrame()\n",
    "    for i in regulon[regulon['TF'] == TF]['TargetGenes']:\n",
    "        temp = eval(i)\n",
    "        reg_df = pd.concat([reg_df, pd.DataFrame(temp)], axis=0)\n",
    "    reg_df = reg_df.reset_index(drop=True)\n",
    "    reg_df = reg_df.drop_duplicates()\n",
    "    reg_df['TF'] = TF\n",
    "    reg_df = reg_df.rename(columns={0: 'target', 1: 'importance', 2: 'TF'})\n",
    "    reg_df = reg_df.sort_values(by='importance', ascending=False)\n",
    "    reg_df = reg_df.head(500) # keep top 100ish here? supported by motif analysis\n",
    "    reg_df['group'] = str(TF + \"_regulon\")\n",
    "    return reg_df\n",
    "\n",
    "def make_adj_df(GOI): # question is if we even want the adjacencies in the netowork? \n",
    "    adj_interest = adjacencies[adjacencies['target'] == GOI]\n",
    "    adj_interest = adj_interest.sort_values(by='importance', ascending=False)\n",
    "    adj_interest = adj_interest.head(15) # select top n 'important' TFs, threshold can be adjusted\n",
    "    adj_interest['group'] = 'adjacencies'\n",
    "    return adj_interest"
   ]
  },
  {
   "cell_type": "code",
   "execution_count": 83,
   "metadata": {},
   "outputs": [],
   "source": [
    "def make_goi_grn(GOI):\n",
    "    goi_regulons = find_regulons(regulon, GOI)\n",
    "    goi_grn = pd.DataFrame()\n",
    "    for i in goi_regulons:\n",
    "        goi_grn = pd.concat([goi_grn, make_regulon_dataframe(i)], axis=0)\n",
    "    #goi_grn = pd.concat([goi_grn, make_adj_df(GOI)], axis=0)\n",
    "    return goi_grn"
   ]
  },
  {
   "cell_type": "code",
   "execution_count": 84,
   "metadata": {},
   "outputs": [
    {
     "data": {
      "text/plain": [
       "1508"
      ]
     },
     "execution_count": 84,
     "metadata": {},
     "output_type": "execute_result"
    }
   ],
   "source": [
    "goi_grn = make_goi_grn(GOI)\n",
    "goi_grn.drop_duplicates(subset=['importance', 'TF', 'group'], keep=\"first\", inplace=True)\n",
    "goi_grn = goi_grn.sort_values(by='importance', ascending=False)\n",
    "goi_grn = goi_grn[goi_grn.duplicated(subset=['target'], keep=False)] # drop singletons\n",
    "len(goi_grn)"
   ]
  },
  {
   "cell_type": "code",
   "execution_count": 85,
   "metadata": {},
   "outputs": [
    {
     "data": {
      "text/plain": [
       "<Axes: xlabel='importance', ylabel='Count'>"
      ]
     },
     "execution_count": 85,
     "metadata": {},
     "output_type": "execute_result"
    },
    {
     "data": {
      "image/png": "[encoded data removed]",
      "text/plain": [
       "<Figure size 640x480 with 1 Axes>"
      ]
     },
     "metadata": {},
     "output_type": "display_data"
    }
   ],
   "source": [
    "# visualize distribution of importance scores\n",
    "sns.histplot(goi_grn['importance'], kde=False, bins=50)"
   ]
  },
  {
   "cell_type": "code",
   "execution_count": 86,
   "metadata": {},
   "outputs": [
    {
     "data": {
      "text/html": [
       "<div>\n",
       "<style scoped>\n",
       "    .dataframe tbody tr th:only-of-type {\n",
       "        vertical-align: middle;\n",
       "    }\n",
       "\n",
       "    .dataframe tbody tr th {\n",
       "        vertical-align: top;\n",
       "    }\n",
       "\n",
       "    .dataframe thead th {\n",
       "        text-align: right;\n",
       "    }\n",
       "</style>\n",
       "<table border=\"1\" class=\"dataframe\">\n",
       "  <thead>\n",
       "    <tr style=\"text-align: right;\">\n",
       "      <th></th>\n",
       "      <th>target</th>\n",
       "      <th>importance</th>\n",
       "      <th>TF</th>\n",
       "      <th>group</th>\n",
       "    </tr>\n",
       "  </thead>\n",
       "  <tbody>\n",
       "    <tr>\n",
       "      <th>593</th>\n",
       "      <td>VAV3</td>\n",
       "      <td>2.708242</td>\n",
       "      <td>KLF5</td>\n",
       "      <td>KLF5_regulon</td>\n",
       "    </tr>\n",
       "    <tr>\n",
       "      <th>662</th>\n",
       "      <td>VAV3</td>\n",
       "      <td>1.036355</td>\n",
       "      <td>CDX2</td>\n",
       "      <td>CDX2_regulon</td>\n",
       "    </tr>\n",
       "    <tr>\n",
       "      <th>51</th>\n",
       "      <td>VAV3</td>\n",
       "      <td>0.346808</td>\n",
       "      <td>ZBTB7A</td>\n",
       "      <td>ZBTB7A_regulon</td>\n",
       "    </tr>\n",
       "    <tr>\n",
       "      <th>25</th>\n",
       "      <td>VAV3</td>\n",
       "      <td>0.063045</td>\n",
       "      <td>ERF</td>\n",
       "      <td>ERF_regulon</td>\n",
       "    </tr>\n",
       "  </tbody>\n",
       "</table>\n",
       "</div>"
      ],
      "text/plain": [
       "    target  importance      TF           group\n",
       "593   VAV3    2.708242    KLF5    KLF5_regulon\n",
       "662   VAV3    1.036355    CDX2    CDX2_regulon\n",
       "51    VAV3    0.346808  ZBTB7A  ZBTB7A_regulon\n",
       "25    VAV3    0.063045     ERF     ERF_regulon"
      ]
     },
     "execution_count": 86,
     "metadata": {},
     "output_type": "execute_result"
    }
   ],
   "source": [
    "# all regulons that have GOI in their target genes\n",
    "goi_grn[goi_grn['target'] == GOI]"
   ]
  },
  {
   "cell_type": "code",
   "execution_count": 91,
   "metadata": {},
   "outputs": [],
   "source": [
    "# print short summary of GOI and each regulon\n",
    "# import gene summary data from NCBI using BioPython\n",
    "\n",
    "import time\n",
    "import xmltodict\n",
    "from collections import defaultdict\n",
    "from Bio import Entrez\n",
    "\n",
    "\n",
    "def get_entrez_gene_summary(\n",
    "    gene_name, email, organism=\"human\", max_gene_ids=100\n",
    "):\n",
    "    \"\"\"Returns the 'Summary' contents for provided input\n",
    "    gene from the Entrez Gene database. \n",
    "    \n",
    "    Args:\n",
    "        gene_name (string): Official (HGNC) gene name \n",
    "           (e.g., 'KAT2A')\n",
    "        email (string): Required email for making requests\n",
    "        organism (string, optional): defaults to human. \n",
    "           Filters results only to match organism. Set to None\n",
    "           to return all organism unfiltered.\n",
    "        max_gene_ids (int, optional): Sets the number of Gene\n",
    "           ID results to return (absolute max allowed is 10K).\n",
    "        \n",
    "    Returns:\n",
    "        dict: Summaries for all gene IDs associated with \n",
    "           gene_name (where: keys → [orgn][gene name],\n",
    "                      values → gene summary)\n",
    "    \"\"\"\n",
    "    Entrez.email = email\n",
    "\n",
    "    query = (\n",
    "        f\"{gene_name}[Gene Name]\"\n",
    "        if not organism\n",
    "        else f\"({gene_name}[Gene Name]) AND {organism}[Organism]\"\n",
    "    )\n",
    "    handle = Entrez.esearch(db=\"gene\", term=query, retmax=max_gene_ids)\n",
    "    record = Entrez.read(handle)\n",
    "    handle.close()\n",
    "\n",
    "    gene_summaries = defaultdict(dict)\n",
    "    gene_ids = record[\"IdList\"]\n",
    "\n",
    "    #print(f\"{len(gene_ids)} gene IDs returned associated with gene {gene_name}.\")\n",
    "\n",
    "    for gene_id in gene_ids:\n",
    "        #print(f\"\\tRetrieving summary for {gene_id}...\")\n",
    "        handle = Entrez.efetch(db=\"gene\", id=gene_id, rettype=\"docsum\")\n",
    "        gene_dict = xmltodict.parse(\n",
    "            \"\".join([x.decode(encoding=\"utf-8\") for x in handle.readlines()]),\n",
    "            dict_constructor=dict,\n",
    "        )\n",
    "        gene_docsum = gene_dict[\"eSummaryResult\"][\"DocumentSummarySet\"][\n",
    "            \"DocumentSummary\"\n",
    "        ]\n",
    "        name = gene_docsum.get(\"Name\")\n",
    "        summary = gene_docsum.get(\"Summary\")\n",
    "        gene_organism = gene_docsum.get(\"Organism\")[\"CommonName\"]\n",
    "        gene_summaries[gene_organism][name] = summary\n",
    "        handle.close()\n",
    "        time.sleep(0.34)  # Requests to NCBI are rate limited to 3 per second\n",
    "\n",
    "    return gene_summaries\n",
    "\n",
    "\n",
    "# method to format gene summary from NCBI to print readably\n",
    "def format_gene_summary(gene_summary):\n",
    "    i = 0\n",
    "    for gene_name, summary in gene_summary.items():\n",
    "        if i == 0:\n",
    "            # skip the first gene summary\n",
    "            i += 1\n",
    "            continue\n",
    "        print(f\"\\n{gene_name}: \\n\")\n",
    "        text = summary\n",
    "        # split gene summary text into separate strings after each 10th white space\n",
    "        n = 12\n",
    "        groups = text.split(' ')\n",
    "        text = [' '.join(groups[i:i+n]) for i in range(0, len(groups), n)]\n",
    "        for t in text:\n",
    "            print(f\"\\t{t}\")\n",
    "\n",
    "\n",
    "\n",
    "email = 'samanthabening@live.com'\n",
    "gene_summaries = {'Gene': 'Summary'}\n",
    "\n",
    "for gene in ([GOI] + goi_grn[goi_grn['target'] == GOI]['TF'].unique().tolist()):\n",
    "    gene_summaries[gene] = get_entrez_gene_summary(gene, email)['human'][gene]"
   ]
  },
  {
   "cell_type": "code",
   "execution_count": 88,
   "metadata": {},
   "outputs": [],
   "source": [
    "# assign colors to regulons\n",
    "groups = {}\n",
    "colors = sns.color_palette(\"Set2\", len(goi_grn['group'].unique())).as_hex()\n",
    "i = 0\n",
    "for group in goi_grn['group'].unique():\n",
    "    groups[group] = colors[i]\n",
    "    i = i + 1"
   ]
  },
  {
   "cell_type": "code",
   "execution_count": 89,
   "metadata": {},
   "outputs": [],
   "source": [
    "# build network\n",
    "\n",
    "sources = goi_grn['TF']\n",
    "targets = goi_grn['target']\n",
    "weights = goi_grn['importance']\n",
    "group = goi_grn['group']\n",
    "\n",
    "edge_data = zip(sources, targets, weights, group)\n",
    "\n",
    "for e in edge_data:\n",
    "                src = e[0]\n",
    "                dst = e[1]\n",
    "                w = e[2]\n",
    "\n",
    "                net.add_node(src, src, title=src, color=groups[e[3]])\n",
    "                net.add_node(dst, dst, title=dst, color=groups[e[3]])\n",
    "                net.add_edge(src, dst, value=w, color=groups[e[3]])\n",
    "\n",
    "neighbor_map = net.get_adj_list()\n",
    "\n",
    "# add neighbor data to node hover data\n",
    "for node in net.nodes:\n",
    "                node[\"title\"] = node['id']\n",
    "                node[\"value\"] = len(neighbor_map[node[\"id\"]])\n",
    "                node['label'] = node['id']"
   ]
  },
  {
   "cell_type": "markdown",
   "metadata": {},
   "source": [
    "# Summary of GRN Data"
   ]
  },
  {
   "cell_type": "code",
   "execution_count": null,
   "metadata": {},
   "outputs": [],
   "source": [
    "# TODO: summary of GOI and its regulons"
   ]
  },
  {
   "cell_type": "code",
   "execution_count": 92,
   "metadata": {},
   "outputs": [
    {
     "name": "stdout",
     "output_type": "stream",
     "text": [
      "\n",
      "VAV3: \n",
      "\n",
      "\tThis gene is a member of the VAV gene family. The VAV\n",
      "\tproteins are guanine nucleotide exchange factors (GEFs) for Rho family GTPases that\n",
      "\tactivate pathways leading to actin cytoskeletal rearrangements and transcriptional alterations. This gene\n",
      "\tproduct acts as a GEF preferentially for RhoG, RhoA, and to a\n",
      "\tlesser extent, RAC1, and it associates maximally with the nucleotide-free states of\n",
      "\tthese GTPases. Alternatively spliced transcript variants encoding different isoforms have been described\n",
      "\tfor this gene. [provided by RefSeq, Jul 2008]\n",
      "\n",
      "KLF5: \n",
      "\n",
      "\tThis gene encodes a member of the Kruppel-like factor subfamily of zinc\n",
      "\tfinger proteins. The encoded protein is a transcriptional activator that binds directly\n",
      "\tto a specific recognition motif in the promoters of target genes. This\n",
      "\tprotein acts downstream of multiple different signaling pathways and is regulated by\n",
      "\tpost-translational modification. It may participate in both promoting and suppressing cell proliferation.\n",
      "\tExpression of this gene may be changed in a variety of different\n",
      "\tcancers and in cardiovascular disease. Alternative splicing results in multiple transcript variants.\n",
      "\t[provided by RefSeq, Nov 2013]\n",
      "\n",
      "CDX2: \n",
      "\n",
      "\tThis gene is a member of the caudal-related homeobox transcription factor gene\n",
      "\tfamily. The encoded protein is a major regulator of intestine-specific genes involved\n",
      "\tin cell growth an differentiation. This protein also plays a role in\n",
      "\tearly embryonic development of the intestinal tract. Aberrant expression of this gene\n",
      "\tis associated with intestinal inflammation and tumorigenesis. [provided by RefSeq, Jan 2012]\n",
      "\n",
      "ZBTB7A: \n",
      "\n",
      "\tEnables several functions, including SMAD binding activity; androgen receptor binding activity; and\n",
      "\ttranscription corepressor binding activity. Involved in several processes, including erythrocyte maturation; negative\n",
      "\tregulation of signal transduction; and regulation of nucleobase-containing compound metabolic process. Located\n",
      "\tin cytoplasm and nucleus. Colocalizes with DNA-dependent protein kinase complex and NuRD\n",
      "\tcomplex. [provided by Alliance of Genome Resources, Apr 2022]\n",
      "\n",
      "ERF: \n",
      "\n",
      "\tETS2 is a transcription factor and protooncogene involved in development, apoptosis, and\n",
      "\tthe regulation of telomerase. The protein encoded by this gene binds to\n",
      "\tthe ETS2 promoter and is a strong repressor of ETS2 transcription. Several\n",
      "\ttranscript variants encoding two different isoforms have been found for this gene.\n",
      "\t[provided by RefSeq, Aug 2015]\n"
     ]
    }
   ],
   "source": [
    "# Biological summary of GOI and its (direct) regulons\n",
    "format_gene_summary(gene_summaries)"
   ]
  },
  {
   "cell_type": "markdown",
   "metadata": {},
   "source": [
    "# Network Visualization"
   ]
  },
  {
   "cell_type": "code",
   "execution_count": 29,
   "metadata": {},
   "outputs": [
    {
     "data": {
      "text/html": [
       "\n",
       "        <iframe\n",
       "            width=\"100%\"\n",
       "            height=\"750px\"\n",
       "            src=\"src/goi_network.html\"\n",
       "            frameborder=\"0\"\n",
       "            allowfullscreen\n",
       "            \n",
       "        ></iframe>\n",
       "        "
      ],
      "text/plain": [
       "<IPython.lib.display.IFrame at 0x143542260>"
      ]
     },
     "execution_count": 29,
     "metadata": {},
     "output_type": "execute_result"
    }
   ],
   "source": [
    "net.show_buttons(filter_=['physics'])\n",
    "net.show(\"src/goi_network.html\")"
   ]
  }
 ],
 "metadata": {
  "kernelspec": {
   "display_name": "Python 3 (ipykernel)",
   "language": "python",
   "name": "python3"
  },
  "language_info": {
   "codemirror_mode": {
    "name": "ipython",
    "version": 3
   },
   "file_extension": ".py",
   "mimetype": "text/x-python",
   "name": "python",
   "nbconvert_exporter": "python",
   "pygments_lexer": "ipython3",
   "version": "3.10.13"
  }
 },
 "nbformat": 4,
 "nbformat_minor": 4
}
