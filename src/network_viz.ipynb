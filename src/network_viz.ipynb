{
 "cells": [
  {
   "cell_type": "code",
   "execution_count": 1,
   "metadata": {},
   "outputs": [
    {
     "name": "stderr",
     "output_type": "stream",
     "text": [
      "/var/folders/q4/ywlg60x9791g_364np64pv6m0000gn/T/ipykernel_11012/3718950424.py:3: DeprecationWarning: \n",
      "Pyarrow will become a required dependency of pandas in the next major release of pandas (pandas 3.0),\n",
      "(to allow more performant data types, such as the Arrow string type, and better interoperability with other libraries)\n",
      "but was not found to be installed on your system.\n",
      "If this would cause problems for you,\n",
      "please provide us feedback at https://github.com/pandas-dev/pandas/issues/54466\n",
      "        \n",
      "  import pandas as pd\n"
     ]
    }
   ],
   "source": [
    "import os\n",
    "import numpy as np\n",
    "import pandas as pd\n",
    "import pyvis"
   ]
  },
  {
   "cell_type": "code",
   "execution_count": 4,
   "metadata": {},
   "outputs": [],
   "source": [
    "# set a working directory\n",
    "wdir = \"/Users/samibening/Projects/Bachelor/\"\n",
    "os.chdir( wdir )\n",
    "\n",
    "f_adj = \"SCENICfiles/adj.csv\""
   ]
  },
  {
   "cell_type": "code",
   "execution_count": 2,
   "metadata": {},
   "outputs": [
    {
     "name": "stdout",
     "output_type": "stream",
     "text": [
      "Local cdn resources have problems on chrome/safari when used in jupyter-notebook. \n"
     ]
    }
   ],
   "source": [
    "from pyvis.network import Network\n",
    "net = Network(notebook=True)\n",
    "net.barnes_hut()"
   ]
  },
  {
   "cell_type": "code",
   "execution_count": 6,
   "metadata": {},
   "outputs": [
    {
     "data": {
      "text/html": [
       "<div>\n",
       "<style scoped>\n",
       "    .dataframe tbody tr th:only-of-type {\n",
       "        vertical-align: middle;\n",
       "    }\n",
       "\n",
       "    .dataframe tbody tr th {\n",
       "        vertical-align: top;\n",
       "    }\n",
       "\n",
       "    .dataframe thead th {\n",
       "        text-align: right;\n",
       "    }\n",
       "</style>\n",
       "<table border=\"1\" class=\"dataframe\">\n",
       "  <thead>\n",
       "    <tr style=\"text-align: right;\">\n",
       "      <th></th>\n",
       "      <th>TF</th>\n",
       "      <th>target</th>\n",
       "      <th>importance</th>\n",
       "    </tr>\n",
       "  </thead>\n",
       "  <tbody>\n",
       "    <tr>\n",
       "      <th>0</th>\n",
       "      <td>RPS4X</td>\n",
       "      <td>RPLP1</td>\n",
       "      <td>1.346624e+01</td>\n",
       "    </tr>\n",
       "    <tr>\n",
       "      <th>1</th>\n",
       "      <td>ERF</td>\n",
       "      <td>NRTN</td>\n",
       "      <td>1.230538e+01</td>\n",
       "    </tr>\n",
       "    <tr>\n",
       "      <th>2</th>\n",
       "      <td>ZBTB37</td>\n",
       "      <td>GAS6-AS1</td>\n",
       "      <td>1.185762e+01</td>\n",
       "    </tr>\n",
       "    <tr>\n",
       "      <th>3</th>\n",
       "      <td>RPL6</td>\n",
       "      <td>RPSA</td>\n",
       "      <td>1.088922e+01</td>\n",
       "    </tr>\n",
       "    <tr>\n",
       "      <th>4</th>\n",
       "      <td>RUNX2</td>\n",
       "      <td>PARD6G-AS1</td>\n",
       "      <td>1.088665e+01</td>\n",
       "    </tr>\n",
       "    <tr>\n",
       "      <th>...</th>\n",
       "      <td>...</td>\n",
       "      <td>...</td>\n",
       "      <td>...</td>\n",
       "    </tr>\n",
       "    <tr>\n",
       "      <th>1580178</th>\n",
       "      <td>ASCC1</td>\n",
       "      <td>SPP1</td>\n",
       "      <td>2.098904e-19</td>\n",
       "    </tr>\n",
       "    <tr>\n",
       "      <th>1580179</th>\n",
       "      <td>PKM</td>\n",
       "      <td>IGLV7-43</td>\n",
       "      <td>1.796661e-19</td>\n",
       "    </tr>\n",
       "    <tr>\n",
       "      <th>1580180</th>\n",
       "      <td>ZNF787</td>\n",
       "      <td>IGLV3-25</td>\n",
       "      <td>1.494234e-19</td>\n",
       "    </tr>\n",
       "    <tr>\n",
       "      <th>1580181</th>\n",
       "      <td>MTA3</td>\n",
       "      <td>SAA1</td>\n",
       "      <td>3.901987e-20</td>\n",
       "    </tr>\n",
       "    <tr>\n",
       "      <th>1580182</th>\n",
       "      <td>TGIF2</td>\n",
       "      <td>SPP1</td>\n",
       "      <td>3.590231e-20</td>\n",
       "    </tr>\n",
       "  </tbody>\n",
       "</table>\n",
       "<p>1580183 rows × 3 columns</p>\n",
       "</div>"
      ],
      "text/plain": [
       "             TF      target    importance\n",
       "0         RPS4X       RPLP1  1.346624e+01\n",
       "1           ERF        NRTN  1.230538e+01\n",
       "2        ZBTB37    GAS6-AS1  1.185762e+01\n",
       "3          RPL6        RPSA  1.088922e+01\n",
       "4         RUNX2  PARD6G-AS1  1.088665e+01\n",
       "...         ...         ...           ...\n",
       "1580178   ASCC1        SPP1  2.098904e-19\n",
       "1580179     PKM    IGLV7-43  1.796661e-19\n",
       "1580180  ZNF787    IGLV3-25  1.494234e-19\n",
       "1580181    MTA3        SAA1  3.901987e-20\n",
       "1580182   TGIF2        SPP1  3.590231e-20\n",
       "\n",
       "[1580183 rows x 3 columns]"
      ]
     },
     "execution_count": 6,
     "metadata": {},
     "output_type": "execute_result"
    }
   ],
   "source": [
    "adjacencies = pd.read_csv(os.path.join(wdir, f_adj))\n",
    "adjacencies"
   ]
  },
  {
   "cell_type": "code",
   "execution_count": 7,
   "metadata": {},
   "outputs": [],
   "source": [
    "sources = adjacencies['TF']\n",
    "targets = adjacencies['target']\n",
    "weights = adjacencies['importance']\n",
    "\n",
    "edge_data = zip(sources, targets, weights)"
   ]
  },
  {
   "cell_type": "code",
   "execution_count": null,
   "metadata": {},
   "outputs": [],
   "source": [
    "for e in edge_data:\n",
    "                src = e[0]\n",
    "                dst = e[1]\n",
    "                w = e[2]\n",
    "\n",
    "                net.add_node(src, src, title=src)\n",
    "                net.add_node(dst, dst, title=dst)\n",
    "                net.add_edge(src, dst, value=w)\n",
    "\n",
    "neighbor_map = net.get_adj_list()"
   ]
  },
  {
   "cell_type": "code",
   "execution_count": 9,
   "metadata": {},
   "outputs": [
    {
     "ename": "KeyboardInterrupt",
     "evalue": "",
     "output_type": "error",
     "traceback": [
      "\u001b[0;31m---------------------------------------------------------------------------\u001b[0m",
      "\u001b[0;31mKeyboardInterrupt\u001b[0m                         Traceback (most recent call last)",
      "Cell \u001b[0;32mIn[9], line 8\u001b[0m\n\u001b[1;32m      6\u001b[0m                 net\u001b[38;5;241m.\u001b[39madd_node(src, src, title\u001b[38;5;241m=\u001b[39msrc)\n\u001b[1;32m      7\u001b[0m                 net\u001b[38;5;241m.\u001b[39madd_node(dst, dst, title\u001b[38;5;241m=\u001b[39mdst)\n\u001b[0;32m----> 8\u001b[0m                 \u001b[43mnet\u001b[49m\u001b[38;5;241;43m.\u001b[39;49m\u001b[43madd_edge\u001b[49m\u001b[43m(\u001b[49m\u001b[43msrc\u001b[49m\u001b[43m,\u001b[49m\u001b[43m \u001b[49m\u001b[43mdst\u001b[49m\u001b[43m,\u001b[49m\u001b[43m \u001b[49m\u001b[43mvalue\u001b[49m\u001b[38;5;241;43m=\u001b[39;49m\u001b[43mw\u001b[49m\u001b[43m)\u001b[49m\n\u001b[1;32m     10\u001b[0m neighbor_map \u001b[38;5;241m=\u001b[39m net\u001b[38;5;241m.\u001b[39mget_adj_list()\n\u001b[1;32m     12\u001b[0m \u001b[38;5;66;03m# add neighbor data to node hover data\u001b[39;00m\n",
      "File \u001b[0;32m~/micromamba/envs/network_viz/lib/python3.10/site-packages/pyvis/network.py:379\u001b[0m, in \u001b[0;36mNetwork.add_edge\u001b[0;34m(self, source, to, **options)\u001b[0m\n\u001b[1;32m    375\u001b[0m         frm \u001b[38;5;241m=\u001b[39m e[\u001b[38;5;124m'\u001b[39m\u001b[38;5;124mfrom\u001b[39m\u001b[38;5;124m'\u001b[39m]\n\u001b[1;32m    376\u001b[0m         dest \u001b[38;5;241m=\u001b[39m e[\u001b[38;5;124m'\u001b[39m\u001b[38;5;124mto\u001b[39m\u001b[38;5;124m'\u001b[39m]\n\u001b[1;32m    377\u001b[0m         \u001b[38;5;28;01mif\u001b[39;00m (\n\u001b[1;32m    378\u001b[0m                 (source \u001b[38;5;241m==\u001b[39m dest \u001b[38;5;129;01mand\u001b[39;00m to \u001b[38;5;241m==\u001b[39m frm) \u001b[38;5;129;01mor\u001b[39;00m\n\u001b[0;32m--> 379\u001b[0m                 (source \u001b[38;5;241m==\u001b[39m frm \u001b[38;5;129;01mand\u001b[39;00m to \u001b[38;5;241m==\u001b[39m dest)\n\u001b[1;32m    380\u001b[0m         ):\n\u001b[1;32m    381\u001b[0m             \u001b[38;5;66;03m# edge already exists\u001b[39;00m\n\u001b[1;32m    382\u001b[0m             edge_exists \u001b[38;5;241m=\u001b[39m \u001b[38;5;28;01mTrue\u001b[39;00m\n\u001b[1;32m    384\u001b[0m \u001b[38;5;28;01mif\u001b[39;00m \u001b[38;5;129;01mnot\u001b[39;00m edge_exists:\n",
      "\u001b[0;31mKeyboardInterrupt\u001b[0m: "
     ]
    }
   ],
   "source": [
    "\n",
    "\n",
    "# add neighbor data to node hover data\n",
    "for node in net.nodes:\n",
    "                node[\"title\"] += \" Neighbors:<br>\" + \"<br>\".join(neighbor_map[node[\"id\"]])\n",
    "                node[\"value\"] = len(neighbor_map[node[\"id\"]])\n",
    "\n",
    "net.show(\"adj_network_tester.html\")"
   ]
  }
 ],
 "metadata": {
  "kernelspec": {
   "display_name": "Python 3",
   "language": "python",
   "name": "python3"
  },
  "language_info": {
   "codemirror_mode": {
    "name": "ipython",
    "version": 3
   },
   "file_extension": ".py",
   "mimetype": "text/x-python",
   "name": "python",
   "nbconvert_exporter": "python",
   "pygments_lexer": "ipython3",
   "version": "3.10.13"
  }
 },
 "nbformat": 4,
 "nbformat_minor": 2
}
