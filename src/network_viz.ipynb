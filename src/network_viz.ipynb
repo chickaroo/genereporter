{
 "cells": [
  {
   "cell_type": "code",
   "execution_count": 1,
   "metadata": {},
   "outputs": [
    {
     "name": "stderr",
     "output_type": "stream",
     "text": [
      "/var/folders/q4/ywlg60x9791g_364np64pv6m0000gn/T/ipykernel_18013/851524594.py:3: DeprecationWarning: \n",
      "Pyarrow will become a required dependency of pandas in the next major release of pandas (pandas 3.0),\n",
      "(to allow more performant data types, such as the Arrow string type, and better interoperability with other libraries)\n",
      "but was not found to be installed on your system.\n",
      "If this would cause problems for you,\n",
      "please provide us feedback at https://github.com/pandas-dev/pandas/issues/54466\n",
      "        \n",
      "  import pandas as pd\n"
     ]
    }
   ],
   "source": [
    "import os\n",
    "import numpy as np\n",
    "import pandas as pd\n",
    "from pyvis.network import Network\n",
    "import seaborn as sns"
   ]
  },
  {
   "cell_type": "code",
   "execution_count": 2,
   "metadata": {},
   "outputs": [],
   "source": [
    "# set GOI\n",
    "\n",
    "GOI = 'CASP8'"
   ]
  },
  {
   "cell_type": "code",
   "execution_count": 3,
   "metadata": {},
   "outputs": [],
   "source": [
    "# set a working directory\n",
    "wdir = \"/Users/samibening/Projects/Bachelor/\"\n",
    "os.chdir( wdir )\n",
    "\n",
    "f_adj = \"SCENICfiles/adj.csv\""
   ]
  },
  {
   "cell_type": "code",
   "execution_count": 4,
   "metadata": {},
   "outputs": [],
   "source": [
    "net = Network(notebook=True, select_menu=True, cdn_resources='remote', height='750px', width='100%', bgcolor=\"#222222\", font_color=\"white\")\n",
    "net.barnes_hut(gravity=-4000, central_gravity=1)"
   ]
  },
  {
   "cell_type": "code",
   "execution_count": 5,
   "metadata": {},
   "outputs": [],
   "source": [
    "def clean_target_genes(row):\n",
    "    return eval(row['TargetGenes'])"
   ]
  },
  {
   "cell_type": "code",
   "execution_count": 6,
   "metadata": {},
   "outputs": [
    {
     "data": {
      "text/plain": [
       "0       [(SNAPC1, 0.3106342842966851), (MCOLN1, 0.5420...\n",
       "1       [(KIAA1328, 0.3970861519089653), (FANCL, 0.461...\n",
       "2       [(C17orf97, 0.3100105285841538), (DACT2, 0.425...\n",
       "3       [(SENP8, 0.7902819247600439), (SPDEF, 0.367617...\n",
       "4       [(KTN1, 0.4799956278331701), (PHF3, 0.58684373...\n",
       "                              ...                        \n",
       "3367    [(TRIM26, 0.1201918626925179), (PGM5, 0.232152...\n",
       "3368    [(RNF146, 0.2550295040430109), (COL16A1, 0.382...\n",
       "3369    [(SLCO2B1, 0.3591370907224389), (NRXN2, 0.1067...\n",
       "3370    [(ETV3, 0.103677774272525), (FAAP100, 0.473556...\n",
       "3371    [(ZFYVE27, 0.1691535174831882), (OSER1, 0.0855...\n",
       "Length: 3372, dtype: object"
      ]
     },
     "execution_count": 6,
     "metadata": {},
     "output_type": "execute_result"
    }
   ],
   "source": [
    "adjacencies = pd.read_csv(os.path.join(wdir, f_adj))\n",
    "regulon = pd.read_csv(os.path.join(wdir, \"SCENICfiles/reg.csv\"))\n",
    "regulon.apply(clean_target_genes, axis=1)"
   ]
  },
  {
   "cell_type": "code",
   "execution_count": 7,
   "metadata": {},
   "outputs": [],
   "source": [
    "# find all regulons that have GOI (CASP8) in their target genes\n",
    "def find_regulons(df, GOI):\n",
    "    goi_regulons = regulon[regulon['TargetGenes'].str.contains(str(GOI+'\\''))]\n",
    "    return goi_regulons['TF'].values\n",
    "\n",
    "def make_regulon_dataframe(TF):\n",
    "    reg_df = pd.DataFrame()\n",
    "    for i in regulon[regulon['TF'] == TF]['TargetGenes']:\n",
    "        temp = eval(i)\n",
    "        reg_df = pd.concat([reg_df, pd.DataFrame(temp)], axis=0)\n",
    "    reg_df = reg_df.reset_index(drop=True)\n",
    "    reg_df = reg_df.drop_duplicates()\n",
    "    reg_df['TF'] = TF\n",
    "    reg_df = reg_df.rename(columns={0: 'target', 1: 'importance', 2: 'TF'})\n",
    "    reg_df = reg_df.sort_values(by='importance', ascending=False)\n",
    "    reg_df = reg_df.head(100) # keep top 100ish here? supported by \n",
    "    reg_df['group'] = str(TF + \"_regulon\")\n",
    "    return reg_df\n",
    "\n",
    "def make_adj_df(GOI):\n",
    "    adj_interest = adjacencies[adjacencies['target'] == GOI]\n",
    "    adj_interest = adj_interest.sort_values(by='importance', ascending=False)\n",
    "    adj_interest = adj_interest.head(15) # select top 10 'important' TFs, threshold can be adjusted\n",
    "    adj_interest['group'] = 'adjacencies'\n",
    "    return adj_interest"
   ]
  },
  {
   "cell_type": "code",
   "execution_count": 8,
   "metadata": {},
   "outputs": [],
   "source": [
    "def make_goi_grn(GOI):\n",
    "    goi_regulons = find_regulons(regulon, GOI)\n",
    "    goi_grn = pd.DataFrame()\n",
    "    for i in goi_regulons:\n",
    "        goi_grn = pd.concat([goi_grn, make_regulon_dataframe(i)], axis=0)\n",
    "    #goi_grn = pd.concat([goi_grn, make_adj_df(GOI)], axis=0)\n",
    "    return goi_grn"
   ]
  },
  {
   "cell_type": "code",
   "execution_count": 9,
   "metadata": {},
   "outputs": [
    {
     "data": {
      "text/plain": [
       "80"
      ]
     },
     "execution_count": 9,
     "metadata": {},
     "output_type": "execute_result"
    }
   ],
   "source": [
    "goi_grn = make_goi_grn(GOI)\n",
    "goi_grn.drop_duplicates(subset=['importance', 'TF', 'group'], keep=\"first\", inplace=True)\n",
    "goi_grn = goi_grn.sort_values(by='importance', ascending=False)\n",
    "goi_grn = goi_grn[goi_grn.duplicated(subset=['target'], keep=False)] # drop singletons\n",
    "len(goi_grn)"
   ]
  },
  {
   "cell_type": "code",
   "execution_count": null,
   "metadata": {},
   "outputs": [],
   "source": [
    "# TODO: visualize distribution of importance scores"
   ]
  },
  {
   "cell_type": "code",
   "execution_count": 10,
   "metadata": {},
   "outputs": [
    {
     "data": {
      "text/html": [
       "<div>\n",
       "<style scoped>\n",
       "    .dataframe tbody tr th:only-of-type {\n",
       "        vertical-align: middle;\n",
       "    }\n",
       "\n",
       "    .dataframe tbody tr th {\n",
       "        vertical-align: top;\n",
       "    }\n",
       "\n",
       "    .dataframe thead th {\n",
       "        text-align: right;\n",
       "    }\n",
       "</style>\n",
       "<table border=\"1\" class=\"dataframe\">\n",
       "  <thead>\n",
       "    <tr style=\"text-align: right;\">\n",
       "      <th></th>\n",
       "      <th>target</th>\n",
       "      <th>importance</th>\n",
       "      <th>TF</th>\n",
       "      <th>group</th>\n",
       "    </tr>\n",
       "  </thead>\n",
       "  <tbody>\n",
       "    <tr>\n",
       "      <th>23</th>\n",
       "      <td>CASP8</td>\n",
       "      <td>0.534655</td>\n",
       "      <td>MSC</td>\n",
       "      <td>MSC_regulon</td>\n",
       "    </tr>\n",
       "    <tr>\n",
       "      <th>131</th>\n",
       "      <td>CASP8</td>\n",
       "      <td>0.374171</td>\n",
       "      <td>IKZF3</td>\n",
       "      <td>IKZF3_regulon</td>\n",
       "    </tr>\n",
       "    <tr>\n",
       "      <th>60</th>\n",
       "      <td>CASP8</td>\n",
       "      <td>0.230572</td>\n",
       "      <td>TBP</td>\n",
       "      <td>TBP_regulon</td>\n",
       "    </tr>\n",
       "  </tbody>\n",
       "</table>\n",
       "</div>"
      ],
      "text/plain": [
       "    target  importance     TF          group\n",
       "23   CASP8    0.534655    MSC    MSC_regulon\n",
       "131  CASP8    0.374171  IKZF3  IKZF3_regulon\n",
       "60   CASP8    0.230572    TBP    TBP_regulon"
      ]
     },
     "execution_count": 10,
     "metadata": {},
     "output_type": "execute_result"
    }
   ],
   "source": [
    "goi_grn[goi_grn['target'] == GOI]"
   ]
  },
  {
   "cell_type": "code",
   "execution_count": 11,
   "metadata": {},
   "outputs": [
    {
     "data": {
      "text/plain": [
       "{'MSC_regulon': '#66c2a5',\n",
       " 'IKZF3_regulon': '#fc8d62',\n",
       " 'IKZF1_regulon': '#8da0cb',\n",
       " 'IRF1_regulon': '#e78ac3',\n",
       " 'TFDP1_regulon': '#a6d854',\n",
       " 'ATF4_regulon': '#ffd92f',\n",
       " 'TBP_regulon': '#e5c494'}"
      ]
     },
     "execution_count": 11,
     "metadata": {},
     "output_type": "execute_result"
    }
   ],
   "source": [
    "groups = {}\n",
    "colors = sns.color_palette(\"Set2\", len(goi_grn['group'].unique())).as_hex()\n",
    "i = 0\n",
    "for group in goi_grn['group'].unique():\n",
    "    groups[group] = colors[i]\n",
    "    i = i + 1\n",
    "\n",
    "groups"
   ]
  },
  {
   "cell_type": "code",
   "execution_count": 12,
   "metadata": {},
   "outputs": [],
   "source": [
    "sources = goi_grn['TF']\n",
    "targets = goi_grn['target']\n",
    "weights = goi_grn['importance']\n",
    "group = goi_grn['group']\n",
    "\n",
    "edge_data = zip(sources, targets, weights, group)"
   ]
  },
  {
   "cell_type": "code",
   "execution_count": 13,
   "metadata": {},
   "outputs": [],
   "source": [
    "for e in edge_data:\n",
    "                src = e[0]\n",
    "                dst = e[1]\n",
    "                w = e[2]\n",
    "\n",
    "                net.add_node(src, src, title=src, color=groups[e[3]])\n",
    "                net.add_node(dst, dst, title=dst, color=groups[e[3]])\n",
    "                net.add_edge(src, dst, value=w, color=groups[e[3]])\n",
    "\n",
    "neighbor_map = net.get_adj_list()"
   ]
  },
  {
   "cell_type": "code",
   "execution_count": 14,
   "metadata": {},
   "outputs": [],
   "source": [
    "# add neighbor data to node hover data\n",
    "for node in net.nodes:\n",
    "                node[\"title\"] = node['id']\n",
    "                node[\"value\"] = len(neighbor_map[node[\"id\"]])\n",
    "                node['label'] = node['id']"
   ]
  },
  {
   "cell_type": "code",
   "execution_count": 15,
   "metadata": {},
   "outputs": [
    {
     "data": {
      "text/html": [
       "\n",
       "        <iframe\n",
       "            width=\"100%\"\n",
       "            height=\"750px\"\n",
       "            src=\"src/casp8_network.html\"\n",
       "            frameborder=\"0\"\n",
       "            allowfullscreen\n",
       "            \n",
       "        ></iframe>\n",
       "        "
      ],
      "text/plain": [
       "<IPython.lib.display.IFrame at 0x1251bc520>"
      ]
     },
     "execution_count": 15,
     "metadata": {},
     "output_type": "execute_result"
    }
   ],
   "source": [
    "net.show_buttons(filter_=['physics'])\n",
    "net.show(\"src/casp8_network.html\")"
   ]
  }
 ],
 "metadata": {
  "kernelspec": {
   "display_name": "Python 3 (ipykernel)",
   "language": "python",
   "name": "python3"
  },
  "language_info": {
   "codemirror_mode": {
    "name": "ipython",
    "version": 3
   },
   "file_extension": ".py",
   "mimetype": "text/x-python",
   "name": "python",
   "nbconvert_exporter": "python",
   "pygments_lexer": "ipython3",
   "version": "3.10.13"
  }
 },
 "nbformat": 4,
 "nbformat_minor": 4
}
