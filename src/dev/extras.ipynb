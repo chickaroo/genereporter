{
 "cells": [
  {
   "cell_type": "markdown",
   "metadata": {},
   "source": [
    "# Extras not in the final notebooks (for now)"
   ]
  },
  {
   "cell_type": "markdown",
   "metadata": {},
   "source": [
    "### Fit curve to the max curve seen above to calculate threshold for lower genes, curve elbow, etc. "
   ]
  },
  {
   "cell_type": "code",
   "execution_count": null,
   "metadata": {},
   "outputs": [],
   "source": [
    "# make bins and take maximum of each bin to get (x,y) points to fit sigmoid curve to\n",
    "df = pl_expression_vs_detection(adata, cell_type='Plasma', return_df=True)\n",
    "df['percent_detected'] = df['percent_detected']/100\n",
    "df_bins = df.groupby(pd.cut(df['log1p(means)'], np.arange(0, max(df['log1p(means)']), 0.05))).max() \n",
    "#TODO issue here that the log1p(means) value is also always the max, as in the very top of the bin instead of the median for example? \n",
    "df_bins = df_bins.dropna()\n",
    "# fit function here\n",
    "xdata = df_bins['log1p(means)'].values\n",
    "ydata = df_bins['percent_detected']\n",
    "for bin, value in ydata.items():\n",
    "    if (bin.right > 1.25) and (value < 0.7):\n",
    "        ydata.loc[bin] = 0.999\n",
    "ydata = ydata.values\n",
    "df_bins.tail()"
   ]
  },
  {
   "cell_type": "code",
   "execution_count": null,
   "metadata": {},
   "outputs": [],
   "source": [
    "# fit and plot splines\n",
    "tck = splrep(xdata, ydata, s=0.0009, k=3)\n",
    "tck_s = splrep(xdata, ydata, s=len(xdata))\n",
    "\n",
    "# derivatives of spline function\n",
    "yders = interpolate.spalde(xdata, tck)\n",
    "yders_df = pd.DataFrame(yders, columns=['y', 'dy', 'd2y', 'd3y'], index= xdata)\n",
    "yders_df['d3y_diff'] = yders_df['d3y'].diff().fillna(0)\n",
    "# identify any changes in direction of the third derivative\n",
    "infls = yders_df[yders_df['d3y_diff'] != 0].index\n",
    "infls"
   ]
  },
  {
   "cell_type": "code",
   "execution_count": null,
   "metadata": {},
   "outputs": [],
   "source": [
    "# plot data vs fitted spline with inflection points\n",
    "fig, ax2 = plt.subplots(1,1)\n",
    "ax2.scatter(data=df, x='log1p(means)', y='percent_detected', alpha=0.5, color='orange', s=2.5)\n",
    "ax2.plot(xdata, BSpline(*tck)(xdata), label='s=0.001')\n",
    "#ax2.plot(xdata, BSpline(*tck_s)(xdata), label=f's={len(xdata)}')\n",
    "ax2.set_title(\"Spline fit to expression vs. fraction detected\")\n",
    "ax2.set_xlabel(\"log1p(means)\")\n",
    "ax2.set_ylabel(\"fraction detected\")\n",
    "ax2.vlines(infls, 0, 1.05, color='red', linestyles='dashed', label='turning points')\n",
    "ax2.legend()\n",
    "plt.show()"
   ]
  },
  {
   "cell_type": "code",
   "execution_count": null,
   "metadata": {},
   "outputs": [],
   "source": [
    "# second derivative of spline function\n",
    "yders = interpolate.spalde(xdata, tck)\n",
    "plt.figure()\n",
    "for i in range(4):\n",
    "   plt.plot(xdata, [d[i] for d in yders], '--', label=f\"{i} derivative\")\n",
    "plt.legend()\n",
    "plt.title('All derivatives of B-spline')\n",
    "plt.show()"
   ]
  },
  {
   "cell_type": "code",
   "execution_count": null,
   "metadata": {},
   "outputs": [],
   "source": [
    "# function to plot relationship between total counts mean and percent detected value\n",
    "# x: cell type specific total counts mean, y: cell type specific percent detected value \n",
    "\n",
    "def pl_tc_vs_pd(adata, ax, method='mean', return_df = False, layer='log_norm'):\n",
    "\n",
    "    # calculate mean total counts per cell type\n",
    "    subset_df = adata.to_df(layer='log_norm')\n",
    "    means = adata.obs.groupby(['celltypist_cell_label']).mean()\n",
    "    new_df = pd.DataFrame(data=means['total_counts']) #df with cell type as index and mean 'total_counts' as column\n",
    "\n",
    "    temp = {}\n",
    "    # calculate percentage of cells (per cell type) where each gene is detected (average)\n",
    "    for cell_type in adata.obs['celltypist_cell_label'].unique():\n",
    "        subset = subset_df[adata.obs['celltypist_cell_label'] == cell_type]\n",
    "        nonzero_detected = pd.DataFrame(np.count_nonzero(subset, axis=0) / len(subset)*100, columns=[cell_type], index=subset.columns)\n",
    "        if method=='median':\n",
    "            temp[cell_type] = nonzero_detected[cell_type].median()\n",
    "        else:\n",
    "            temp[cell_type] = nonzero_detected[cell_type].mean()\n",
    "\n",
    "    new_df['percent_detected'] = new_df.index.map(temp)\n",
    "    new_df = new_df.sort_values(['total_counts'], ascending=True)\n",
    "    if return_df:\n",
    "        return new_df\n",
    "    \n",
    "    # plot new_df: x=total_counts, y=percent_detected\n",
    "    for row, column in new_df.iterrows():\n",
    "        ax.scatter(column['total_counts'], column['percent_detected'], c=np.random.rand(1, 3), label=row) \n",
    "        ax.annotate(row, (column['total_counts'], column['percent_detected']), (column['total_counts']+100, column['percent_detected']+0.1), fontsize=6.5)\n",
    "\n",
    "    ax.set_title(\"Mean total counts vs. mean percent detected, per cell type\")\n",
    "    ax.set_xlabel(\"Mean total counts\")\n",
    "    ax.set_ylabel(str(method + \" percent non-zero\"))\n",
    "    \n",
    "    return ax"
   ]
  },
  {
   "cell_type": "code",
   "execution_count": null,
   "metadata": {},
   "outputs": [],
   "source": [
    "fig, ax1 = plt.subplots(1,1, figsize=(10,6))\n",
    "ax1 = pl_tc_vs_pd(adata, ax=ax1, method='median')\n",
    "plt.show()\n",
    "# TODO look online for cell size estimates for each cell type and compare to total counts? "
   ]
  },
  {
   "cell_type": "markdown",
   "metadata": {},
   "source": [
    "## Histograms! "
   ]
  },
  {
   "cell_type": "code",
   "execution_count": null,
   "metadata": {},
   "outputs": [],
   "source": [
    "# function to plot histogram for given adata layer\n",
    "def clean_data(adata, layer_name, threshold = 99.75, remove_zeros = False):\n",
    "    df = adata.to_df(layer=layer_name)\n",
    "    data = df.to_numpy().flatten()\n",
    "    \n",
    "    cutoff = np.percentile(df.values, threshold)\n",
    "    if remove_zeros:\n",
    "        data = data[data != 0]\n",
    "    data = data[data <= cutoff]\n",
    "    \n",
    "    return data\n",
    "    \n",
    "\n",
    "def plot_hist(adata, ax, layer_name, bin_num=1000): # higher bin numbers made zeros in tc_norm_log disappear? \n",
    "    data = clean_data(adata, layer_name)\n",
    "    \n",
    "    hist, edges = np.histogram(data, bins=bin_num)\n",
    "\n",
    "    ax.bar(edges[:-1], hist, width = max(edges)/bin_num, color='#0504aa', align='edge')\n",
    "    ax.set_title(layer_name)\n",
    "    ax.set_xlim(min(edges), np.percentile(data, 99.75))\n",
    "    ax.set_ylim(0, np.percentile(hist, 99.75))\n",
    "    ax.grid(axis='y', alpha=0.75)\n",
    "    ax.set_xlabel('Gene Expression')\n",
    "    ax.set_ylabel('Frequency')\n",
    "    ax.vlines(np.percentile(data, 97.5), ymin=0, ymax=max(hist), linestyle=\"--\", color=\"r\", label='97.5%')\n",
    "        \n",
    "    ax.legend()\n",
    "    \n",
    "    return ax"
   ]
  },
  {
   "cell_type": "code",
   "execution_count": null,
   "metadata": {},
   "outputs": [],
   "source": [
    "# plot histograms\n",
    "fig, (ax2, ax3, ax4) = plt.subplots(1,3, figsize=(16,6), sharey=True)\n",
    "ax2 = plot_hist(adata[adata.obs['celltypist_cell_label_coarse'] == 'Plasma'], ax=ax2, layer_name='log_norm', bin_num=500)\n",
    "ax2.set_title(\"Plasma\")\n",
    "ax3 = plot_hist(adata[adata.obs['celltypist_cell_label_coarse'] == 'T Cell'], ax=ax3, layer_name='log_norm', bin_num=500)\n",
    "ax3.set_title(\"T Cell\")\n",
    "ax4 = plot_hist(adata[adata.obs['celltypist_cell_label'] == 'TA'], ax=ax4, layer_name='log_norm', bin_num=500)\n",
    "ax4.set_title(\"TA\")\n",
    "plt.show()"
   ]
  },
  {
   "cell_type": "code",
   "execution_count": null,
   "metadata": {},
   "outputs": [],
   "source": [
    "# function to calculate the percent change between two layers (e.g. log_norm and magic)\n",
    "def calculate_percent_change(adata, layer1, layer2, type='value'):\n",
    "    df1 = adata.to_df(layer=layer1)\n",
    "    df2 = adata.to_df(layer=layer2)\n",
    "    \n",
    "    nonzero_detected = pd.DataFrame(np.count_nonzero(df1, axis=0), columns=['df1_nonzero'], index=df1.columns)\n",
    "    nonzero_detected['df2_nonzero'] = np.count_nonzero(df2, axis=0)\n",
    "    if type == 'value':\n",
    "        # calculate percent change of all values (including 0s)\n",
    "        nonzero_detected['percent_change'] = (nonzero_detected['df2_nonzero'] - nonzero_detected['df1_nonzero']) / nonzero_detected['df1_nonzero'] * 100\n",
    "    elif type=='nonzero':\n",
    "        # calculate percentage of the number of values that changed from 0 to non-zero\n",
    "        nonzero_detected['percent_change'] = (nonzero_detected['df2_nonzero'] - nonzero_detected['df1_nonzero']) / len(df1) * 100\n",
    "    nonzero_detected['percent_change'] = nonzero_detected['percent_change'].fillna(0)\n",
    "    return nonzero_detected\n",
    "\n",
    "# function to plot the percent change between two layers (e.g. log_norm and magic)\n",
    "def plot_percent_change(adata, layer1, layer2, cell_type, type='value', col='log1p(means)'):\n",
    "    title=str(GOI)\n",
    "    if cell_type != None:\n",
    "        title = str(\"Overall expression in \" + cell_type + \" cells\")\n",
    "        if cell_type in adata.obs['celltypist_cell_label_coarse'].unique():\n",
    "            adata = adata[adata.obs['celltypist_cell_label_coarse'] == cell_type]\n",
    "        elif cell_type in adata.obs['celltypist_cell_label'].unique():\n",
    "            adata = adata[adata.obs['celltypist_cell_label'] == cell_type]\n",
    "        else:\n",
    "            print(\"Cell type not found. Please check spelling.\")\n",
    "            return\n",
    "    else:\n",
    "        title = \"All cell types\"\n",
    "        \n",
    "    df = make_df(adata, col, layer=layer1)\n",
    "\n",
    "    changes = calculate_percent_change(adata, layer1, layer2, type=type)\n",
    "    df = df.join(changes, how='left').sort_values(['gene_num'], ascending=True)\n",
    "        \n",
    "    # plot mean expression of a gene (x) vs. percentage of cells where this gene is detected (y)\n",
    "    ax = sns.scatterplot(data=df, x=col, y='percent_change', hue='expr_class', linewidth=0)\n",
    "    ax.set_title(str(title + \": Expression vs. Change in Detection\"))\n",
    "    ax.legend(title='Expression Class', loc='lower left', bbox_to_anchor=(1, 0))\n",
    "    plt.show()\n",
    "    return ax"
   ]
  }
 ],
 "metadata": {
  "kernelspec": {
   "display_name": "Python 3",
   "language": "python",
   "name": "python3"
  },
  "language_info": {
   "name": "python",
   "version": "3.11.7"
  }
 },
 "nbformat": 4,
 "nbformat_minor": 2
}
