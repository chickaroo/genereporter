{
 "cells": [
  {
   "cell_type": "code",
   "execution_count": null,
   "metadata": {},
   "outputs": [],
   "source": [
    "import os\n",
    "import glob\n",
    "import pickle\n",
    "import pandas as pd\n",
    "import anndata as ad\n",
    "import numpy as np\n",
    "\n",
    "from dask.diagnostics import ProgressBar\n",
    "\n",
    "from arboreto.utils import load_tf_names\n",
    "from arboreto.algo import grnboost2\n",
    "\n",
    "from ctxcore.rnkdb import FeatherRankingDatabase as RankingDatabase\n",
    "from pyscenic.utils import modules_from_adjacencies, load_motifs\n",
    "from pyscenic.prune import prune2df, df2regulons\n",
    "from pyscenic.aucell import aucell\n",
    "\n",
    "#import seaborn as sns"
   ]
  },
  {
   "cell_type": "code",
   "execution_count": null,
   "metadata": {},
   "outputs": [],
   "source": [
    "# read in expression matrix \n",
    "# set a working directory\n",
    "wdir = \"/lustre/groups/ml01/workspace/samantha.bening/Bachelor/\"\n",
    "os.chdir( wdir )\n",
    "\n",
    "adata = ad.read_h5ad('data2/veo_ibd_balanced.h5ad')\n",
    "# make expression matrix \n",
    "ex_matrix = adata.to_df()"
   ]
  },
  {
   "cell_type": "code",
   "execution_count": null,
   "metadata": {},
   "outputs": [],
   "source": [
    "# load ranking databases\n",
    "db_fnames = glob.glob(\"/lustre/groups/ml01/workspace/samantha.bening/data/scenic_dbs/hg38_*.genes_vs_motifs.rankings.feather\")\n",
    "def name(fname):\n",
    "    return os.path.splitext(os.path.basename(fname))[0]\n",
    "dbs = [RankingDatabase(fname=fname, name=name(fname)) for fname in db_fnames]\n",
    "dbs"
   ]
  },
  {
   "cell_type": "code",
   "execution_count": null,
   "metadata": {},
   "outputs": [],
   "source": [
    "# load adjacencies\n",
    "modules = list(modules_from_adjacencies(adjacencies, ex_matrix))"
   ]
  },
  {
   "cell_type": "code",
   "execution_count": null,
   "metadata": {},
   "outputs": [],
   "source": [
    "# Calculate a list of enriched motifs and the corresponding target genes for all modules.\n",
    "with ProgressBar():\n",
    "    df = prune2df(dbs, modules, \"/lustre/groups/ml01/workspace/samantha.bening/data/motifs-v10nr_clust-nr.hgnc-m0.001-o0.0.tbl\")\n",
    "\n",
    "# Create regulons from this table of enriched motifs.\n",
    "regulons = df2regulons(df)\n",
    "\n",
    "# Save the enriched motifs and the discovered regulons to disk.\n",
    "df.to_csv(\"SCENICfiles/motifs.csv\")\n",
    "with open(\"SCENICfiles/regulons.p\", \"wb\") as f:\n",
    "    pickle.dump(regulons, f)"
   ]
  },
  {
   "cell_type": "code",
   "execution_count": null,
   "metadata": {},
   "outputs": [],
   "source": [
    "# AUcell\n",
    "auc_mtx = aucell(ex_matrix, regulons, num_workers=4)\n",
    "sns.clustermap(auc_mtx, figsize=(8,8))"
   ]
  }
 ],
 "metadata": {
  "kernelspec": {
   "display_name": "Python 3 (ipykernel)",
   "language": "python",
   "name": "python3"
  },
  "language_info": {
   "name": "python",
   "version": "3.10.14"
  }
 },
 "nbformat": 4,
 "nbformat_minor": 2
}
