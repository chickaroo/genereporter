{
 "cells": [
  {
   "cell_type": "markdown",
   "metadata": {},
   "source": [
    "## Make and train SCVI model"
   ]
  },
  {
   "cell_type": "code",
   "execution_count": 1,
   "metadata": {},
   "outputs": [
    {
     "name": "stderr",
     "output_type": "stream",
     "text": [
      "Global seed set to 0\n"
     ]
    }
   ],
   "source": [
    "import anndata\n",
    "import scanpy as sc\n",
    "import scvi"
   ]
  },
  {
   "cell_type": "code",
   "execution_count": 4,
   "metadata": {},
   "outputs": [
    {
     "data": {
      "text/plain": [
       "<module 'scvi.model' from '/home/benisam/miniconda3/envs/scvi-tools-env/lib/python3.9/site-packages/scvi/model/__init__.py'>"
      ]
     },
     "execution_count": 4,
     "metadata": {},
     "output_type": "execute_result"
    }
   ],
   "source": [
    "scvi.model"
   ]
  },
  {
   "cell_type": "code",
   "execution_count": 5,
   "metadata": {},
   "outputs": [
    {
     "data": {
      "text/plain": [
       "AnnData object with n_obs × n_vars = 7641 × 10962\n",
       "    obs: 'sampleID', 'barcode', 'doublet_score', 'n_genes_by_counts', 'log1p_n_genes_by_counts', 'total_counts', 'log1p_total_counts', 'pct_counts_in_top_20_genes', 'total_counts_mt', 'log1p_total_counts_mt', 'pct_counts_mt', 'total_counts_ribo', 'log1p_total_counts_ribo', 'pct_counts_ribo', 'total_counts_hb', 'log1p_total_counts_hb', 'pct_counts_hb', 'outlier', 'mt_outlier'\n",
       "    uns: 'sampleID_colors'"
      ]
     },
     "execution_count": 5,
     "metadata": {},
     "output_type": "execute_result"
    }
   ],
   "source": [
    "# read in of beforehand generated data\n",
    "adata = anndata.read_h5ad('/mnt/c/Users/saman/00_Bachelorarbeit/Bachelor/data/output/adata_raw.h5ad') # TODO path of data\n",
    "adata"
   ]
  },
  {
   "cell_type": "code",
   "execution_count": 6,
   "metadata": {},
   "outputs": [
    {
     "name": "stderr",
     "output_type": "stream",
     "text": [
      "WARNING:jax._src.lib.xla_bridge:No GPU/TPU found, falling back to CPU. (Set TF_CPP_MIN_LOG_LEVEL=0 and rerun for more info.)\n"
     ]
    },
    {
     "data": {
      "text/html": [
       "<pre style=\"white-space:pre;overflow-x:auto;line-height:normal;font-family:Menlo,'DejaVu Sans Mono',consolas,'Courier New',monospace\">SCVI Model with the following params: \n",
       "n_hidden: <span style=\"color: #008080; text-decoration-color: #008080; font-weight: bold\">128</span>, n_latent: <span style=\"color: #008080; text-decoration-color: #008080; font-weight: bold\">30</span>, n_layers: <span style=\"color: #008080; text-decoration-color: #008080; font-weight: bold\">2</span>, dropout_rate: <span style=\"color: #008080; text-decoration-color: #008080; font-weight: bold\">0.1</span>, dispersion: gene, gene_likelihood: nb, \n",
       "latent_distribution: normal\n",
       "Training status: Not Trained\n",
       "Model's adata is minified?: <span style=\"color: #ff0000; text-decoration-color: #ff0000; font-style: italic\">False</span>\n",
       "</pre>\n"
      ],
      "text/plain": [
       "SCVI Model with the following params: \n",
       "n_hidden: \u001b[1;36m128\u001b[0m, n_latent: \u001b[1;36m30\u001b[0m, n_layers: \u001b[1;36m2\u001b[0m, dropout_rate: \u001b[1;36m0.1\u001b[0m, dispersion: gene, gene_likelihood: nb, \n",
       "latent_distribution: normal\n",
       "Training status: Not Trained\n",
       "Model's adata is minified?: \u001b[3;91mFalse\u001b[0m\n"
      ]
     },
     "metadata": {},
     "output_type": "display_data"
    },
    {
     "data": {
      "text/plain": []
     },
     "execution_count": 6,
     "metadata": {},
     "output_type": "execute_result"
    }
   ],
   "source": [
    "# setup\n",
    "scvi.model.SCVI.setup_anndata(adata, batch_key='sampleID')\n",
    "vae = scvi.model.SCVI(adata, n_layers=2, n_latent=30, gene_likelihood='nb')\n",
    "vae"
   ]
  },
  {
   "cell_type": "code",
   "execution_count": 7,
   "metadata": {},
   "outputs": [
    {
     "name": "stderr",
     "output_type": "stream",
     "text": [
      "GPU available: False, used: False\n",
      "TPU available: False, using: 0 TPU cores\n",
      "IPU available: False, using: 0 IPUs\n",
      "HPU available: False, using: 0 HPUs\n"
     ]
    },
    {
     "name": "stdout",
     "output_type": "stream",
     "text": [
      "Epoch 400/400: 100%|█████████████████████████████████████████| 400/400 [1:01:18<00:00,  8.70s/it, loss=6.8e+03, v_num=1]"
     ]
    },
    {
     "name": "stderr",
     "output_type": "stream",
     "text": [
      "`Trainer.fit` stopped: `max_epochs=400` reached.\n"
     ]
    },
    {
     "name": "stdout",
     "output_type": "stream",
     "text": [
      "Epoch 400/400: 100%|█████████████████████████████████████████| 400/400 [1:01:18<00:00,  9.20s/it, loss=6.8e+03, v_num=1]\n"
     ]
    }
   ],
   "source": [
    "# training of scvi model\n",
    "vae.train()"
   ]
  },
  {
   "cell_type": "code",
   "execution_count": 9,
   "metadata": {},
   "outputs": [],
   "source": [
    "vae.save(dir_path='/mnt/c/Users/saman/00_Bachelorarbeit/Bachelor/output/scvi_models/')"
   ]
  },
  {
   "cell_type": "code",
   "execution_count": 10,
   "metadata": {},
   "outputs": [
    {
     "data": {
      "text/plain": [
       "array([[-1.2528924e+00,  3.7407154e-01, -3.5531068e-01, ...,\n",
       "         5.7316482e-02, -5.5720294e-01, -2.6531920e-02],\n",
       "       [-5.3329170e-01,  9.3791145e-01, -8.8116503e-01, ...,\n",
       "        -9.2241168e-02, -2.5355105e+00, -1.9874897e-02],\n",
       "       [-2.9377058e-01, -1.4062407e+00, -1.3190808e+00, ...,\n",
       "        -7.3372424e-02, -1.7849177e-01,  1.2367379e-03],\n",
       "       ...,\n",
       "       [-1.4380635e+00,  9.4295985e-01, -7.7795303e-01, ...,\n",
       "        -3.8429499e-02, -4.5002759e-01,  4.7543883e-02],\n",
       "       [ 5.1719785e-02, -1.0750977e+00,  5.2841496e-01, ...,\n",
       "         1.1005092e-01,  4.4114172e-02, -8.9341961e-03],\n",
       "       [-1.0592456e+00, -1.8581811e-01, -1.1433243e+00, ...,\n",
       "         5.6191266e-02,  1.0586948e+00,  7.0873289e-03]], dtype=float32)"
      ]
     },
     "execution_count": 10,
     "metadata": {},
     "output_type": "execute_result"
    }
   ],
   "source": [
    "vae.get_latent_representation()"
   ]
  },
  {
   "cell_type": "code",
   "execution_count": 11,
   "metadata": {},
   "outputs": [],
   "source": [
    "# save results in adata\n",
    "adata.obsm['X_scVI'] = vae.get_latent_representation()"
   ]
  },
  {
   "cell_type": "code",
   "execution_count": 12,
   "metadata": {},
   "outputs": [],
   "source": [
    "# clustering of the results\n",
    "sc.pp.neighbors(adata, use_rep=\"X_scVI\")"
   ]
  },
  {
   "cell_type": "code",
   "execution_count": 13,
   "metadata": {},
   "outputs": [],
   "source": [
    "sc.tl.umap(adata)"
   ]
  },
  {
   "cell_type": "code",
   "execution_count": 14,
   "metadata": {},
   "outputs": [],
   "source": [
    "import seaborn as sns\n",
    "sns.set_theme(\"notebook\", font_scale=0.8)"
   ]
  },
  {
   "cell_type": "code",
   "execution_count": 15,
   "metadata": {},
   "outputs": [
    {
     "data": {
      "image/png": "[encoded data removed]",
      "text/plain": [
       "<Figure size 640x480 with 1 Axes>"
      ]
     },
     "metadata": {},
     "output_type": "display_data"
    }
   ],
   "source": [
    "sc.pl.umap(adata, color=\"sampleID\", title=\"Batch (Sample ID) Integration\")"
   ]
  },
  {
   "cell_type": "code",
   "execution_count": 16,
   "metadata": {},
   "outputs": [],
   "source": [
    "# adata.write_h5ad(\"/mnt/c/Users/saman/00_Bachelorarbeit/Bachelor/data/output/adata_integrated.h5ad\")"
   ]
  },
  {
   "cell_type": "code",
   "execution_count": null,
   "metadata": {},
   "outputs": [],
   "source": [
    "# TODO use this!!! do total counts norm after (make adata with four different layers)\n",
    "# .get_latent_representation()"
   ]
  },
  {
   "cell_type": "code",
   "execution_count": 17,
   "metadata": {},
   "outputs": [
    {
     "data": {
      "text/html": [
       "<div>\n",
       "<style scoped>\n",
       "    .dataframe tbody tr th:only-of-type {\n",
       "        vertical-align: middle;\n",
       "    }\n",
       "\n",
       "    .dataframe tbody tr th {\n",
       "        vertical-align: top;\n",
       "    }\n",
       "\n",
       "    .dataframe thead th {\n",
       "        text-align: right;\n",
       "    }\n",
       "</style>\n",
       "<table border=\"1\" class=\"dataframe\">\n",
       "  <thead>\n",
       "    <tr style=\"text-align: right;\">\n",
       "      <th>index</th>\n",
       "      <th>AL669831.5</th>\n",
       "      <th>NOC2L</th>\n",
       "      <th>AL645608.7</th>\n",
       "      <th>HES4</th>\n",
       "      <th>ISG15</th>\n",
       "      <th>AGRN</th>\n",
       "      <th>C1orf159</th>\n",
       "      <th>TNFRSF18</th>\n",
       "      <th>TNFRSF4</th>\n",
       "      <th>SDF4</th>\n",
       "      <th>...</th>\n",
       "      <th>MT-CO2</th>\n",
       "      <th>MT-ATP8</th>\n",
       "      <th>MT-ATP6</th>\n",
       "      <th>MT-CO3</th>\n",
       "      <th>MT-ND3</th>\n",
       "      <th>MT-ND4L</th>\n",
       "      <th>MT-ND4</th>\n",
       "      <th>MT-ND5</th>\n",
       "      <th>MT-ND6</th>\n",
       "      <th>MT-CYB</th>\n",
       "    </tr>\n",
       "  </thead>\n",
       "  <tbody>\n",
       "    <tr>\n",
       "      <th>CID005217-1-AAAGGTAAGAGTCAGC</th>\n",
       "      <td>0.000017</td>\n",
       "      <td>0.000065</td>\n",
       "      <td>5.876128e-06</td>\n",
       "      <td>0.000105</td>\n",
       "      <td>0.000722</td>\n",
       "      <td>2.439715e-06</td>\n",
       "      <td>0.000008</td>\n",
       "      <td>2.201110e-04</td>\n",
       "      <td>1.980178e-04</td>\n",
       "      <td>0.000082</td>\n",
       "      <td>...</td>\n",
       "      <td>0.027940</td>\n",
       "      <td>0.000657</td>\n",
       "      <td>0.022610</td>\n",
       "      <td>0.028209</td>\n",
       "      <td>0.009248</td>\n",
       "      <td>0.001487</td>\n",
       "      <td>0.018284</td>\n",
       "      <td>0.005753</td>\n",
       "      <td>0.000851</td>\n",
       "      <td>0.018065</td>\n",
       "    </tr>\n",
       "    <tr>\n",
       "      <th>CID005217-1-AAAGTCCTCGAACGGA</th>\n",
       "      <td>0.000012</td>\n",
       "      <td>0.000119</td>\n",
       "      <td>5.865694e-07</td>\n",
       "      <td>0.000025</td>\n",
       "      <td>0.000356</td>\n",
       "      <td>5.896395e-07</td>\n",
       "      <td>0.000002</td>\n",
       "      <td>2.013530e-05</td>\n",
       "      <td>4.760188e-05</td>\n",
       "      <td>0.000049</td>\n",
       "      <td>...</td>\n",
       "      <td>0.025681</td>\n",
       "      <td>0.000546</td>\n",
       "      <td>0.019778</td>\n",
       "      <td>0.028585</td>\n",
       "      <td>0.008911</td>\n",
       "      <td>0.001371</td>\n",
       "      <td>0.016550</td>\n",
       "      <td>0.005160</td>\n",
       "      <td>0.001305</td>\n",
       "      <td>0.015375</td>\n",
       "    </tr>\n",
       "    <tr>\n",
       "      <th>CID005217-1-AACAGGGAGTATTGCC</th>\n",
       "      <td>0.000013</td>\n",
       "      <td>0.000053</td>\n",
       "      <td>8.625745e-06</td>\n",
       "      <td>0.000144</td>\n",
       "      <td>0.000239</td>\n",
       "      <td>1.460493e-05</td>\n",
       "      <td>0.000007</td>\n",
       "      <td>5.616678e-07</td>\n",
       "      <td>3.212670e-06</td>\n",
       "      <td>0.000142</td>\n",
       "      <td>...</td>\n",
       "      <td>0.018660</td>\n",
       "      <td>0.000634</td>\n",
       "      <td>0.019925</td>\n",
       "      <td>0.023273</td>\n",
       "      <td>0.011066</td>\n",
       "      <td>0.002101</td>\n",
       "      <td>0.017411</td>\n",
       "      <td>0.004811</td>\n",
       "      <td>0.000274</td>\n",
       "      <td>0.017469</td>\n",
       "    </tr>\n",
       "    <tr>\n",
       "      <th>CID005217-1-AACAGGGGTGAATGAT</th>\n",
       "      <td>0.000003</td>\n",
       "      <td>0.000073</td>\n",
       "      <td>1.821324e-05</td>\n",
       "      <td>0.000198</td>\n",
       "      <td>0.000547</td>\n",
       "      <td>5.153951e-06</td>\n",
       "      <td>0.000006</td>\n",
       "      <td>5.996793e-07</td>\n",
       "      <td>9.954584e-06</td>\n",
       "      <td>0.000166</td>\n",
       "      <td>...</td>\n",
       "      <td>0.015394</td>\n",
       "      <td>0.000377</td>\n",
       "      <td>0.015365</td>\n",
       "      <td>0.015147</td>\n",
       "      <td>0.007932</td>\n",
       "      <td>0.000917</td>\n",
       "      <td>0.010788</td>\n",
       "      <td>0.003472</td>\n",
       "      <td>0.000170</td>\n",
       "      <td>0.013391</td>\n",
       "    </tr>\n",
       "    <tr>\n",
       "      <th>CID005217-1-AACCAACGTCATCGCG</th>\n",
       "      <td>0.000022</td>\n",
       "      <td>0.000028</td>\n",
       "      <td>1.714799e-05</td>\n",
       "      <td>0.000193</td>\n",
       "      <td>0.001037</td>\n",
       "      <td>4.788163e-06</td>\n",
       "      <td>0.000014</td>\n",
       "      <td>6.143597e-06</td>\n",
       "      <td>1.402441e-05</td>\n",
       "      <td>0.000045</td>\n",
       "      <td>...</td>\n",
       "      <td>0.010000</td>\n",
       "      <td>0.000154</td>\n",
       "      <td>0.007023</td>\n",
       "      <td>0.010461</td>\n",
       "      <td>0.003313</td>\n",
       "      <td>0.000416</td>\n",
       "      <td>0.006264</td>\n",
       "      <td>0.001569</td>\n",
       "      <td>0.000113</td>\n",
       "      <td>0.005558</td>\n",
       "    </tr>\n",
       "    <tr>\n",
       "      <th>...</th>\n",
       "      <td>...</td>\n",
       "      <td>...</td>\n",
       "      <td>...</td>\n",
       "      <td>...</td>\n",
       "      <td>...</td>\n",
       "      <td>...</td>\n",
       "      <td>...</td>\n",
       "      <td>...</td>\n",
       "      <td>...</td>\n",
       "      <td>...</td>\n",
       "      <td>...</td>\n",
       "      <td>...</td>\n",
       "      <td>...</td>\n",
       "      <td>...</td>\n",
       "      <td>...</td>\n",
       "      <td>...</td>\n",
       "      <td>...</td>\n",
       "      <td>...</td>\n",
       "      <td>...</td>\n",
       "      <td>...</td>\n",
       "      <td>...</td>\n",
       "    </tr>\n",
       "    <tr>\n",
       "      <th>CID008474-1-TTTGGTTTCCGAACGC</th>\n",
       "      <td>0.000008</td>\n",
       "      <td>0.000049</td>\n",
       "      <td>1.170835e-05</td>\n",
       "      <td>0.000052</td>\n",
       "      <td>0.000003</td>\n",
       "      <td>1.961287e-05</td>\n",
       "      <td>0.000009</td>\n",
       "      <td>4.355660e-08</td>\n",
       "      <td>1.502348e-07</td>\n",
       "      <td>0.000141</td>\n",
       "      <td>...</td>\n",
       "      <td>0.022776</td>\n",
       "      <td>0.000349</td>\n",
       "      <td>0.017909</td>\n",
       "      <td>0.021915</td>\n",
       "      <td>0.006868</td>\n",
       "      <td>0.000448</td>\n",
       "      <td>0.010027</td>\n",
       "      <td>0.002449</td>\n",
       "      <td>0.000126</td>\n",
       "      <td>0.013183</td>\n",
       "    </tr>\n",
       "    <tr>\n",
       "      <th>CID008474-1-TTTGGTTTCTGCGGGT</th>\n",
       "      <td>0.000002</td>\n",
       "      <td>0.000038</td>\n",
       "      <td>9.919897e-06</td>\n",
       "      <td>0.000039</td>\n",
       "      <td>0.000081</td>\n",
       "      <td>3.078964e-05</td>\n",
       "      <td>0.000006</td>\n",
       "      <td>9.610129e-06</td>\n",
       "      <td>6.978455e-05</td>\n",
       "      <td>0.000109</td>\n",
       "      <td>...</td>\n",
       "      <td>0.028933</td>\n",
       "      <td>0.000440</td>\n",
       "      <td>0.029836</td>\n",
       "      <td>0.030095</td>\n",
       "      <td>0.014066</td>\n",
       "      <td>0.000684</td>\n",
       "      <td>0.016336</td>\n",
       "      <td>0.003297</td>\n",
       "      <td>0.000124</td>\n",
       "      <td>0.021657</td>\n",
       "    </tr>\n",
       "    <tr>\n",
       "      <th>CID008474-1-TTTGTTGAGTTACTCG</th>\n",
       "      <td>0.000004</td>\n",
       "      <td>0.000058</td>\n",
       "      <td>3.627549e-06</td>\n",
       "      <td>0.000012</td>\n",
       "      <td>0.000002</td>\n",
       "      <td>1.071054e-05</td>\n",
       "      <td>0.000006</td>\n",
       "      <td>2.604720e-08</td>\n",
       "      <td>7.659744e-08</td>\n",
       "      <td>0.000117</td>\n",
       "      <td>...</td>\n",
       "      <td>0.025616</td>\n",
       "      <td>0.000442</td>\n",
       "      <td>0.024515</td>\n",
       "      <td>0.027960</td>\n",
       "      <td>0.007968</td>\n",
       "      <td>0.000461</td>\n",
       "      <td>0.011672</td>\n",
       "      <td>0.003099</td>\n",
       "      <td>0.000211</td>\n",
       "      <td>0.016098</td>\n",
       "    </tr>\n",
       "    <tr>\n",
       "      <th>CID008474-1-TTTGTTGCATGAGTAA</th>\n",
       "      <td>0.000001</td>\n",
       "      <td>0.000011</td>\n",
       "      <td>4.327467e-07</td>\n",
       "      <td>0.000004</td>\n",
       "      <td>0.000042</td>\n",
       "      <td>2.614254e-07</td>\n",
       "      <td>0.000001</td>\n",
       "      <td>6.667156e-05</td>\n",
       "      <td>3.100595e-05</td>\n",
       "      <td>0.000038</td>\n",
       "      <td>...</td>\n",
       "      <td>0.004441</td>\n",
       "      <td>0.000047</td>\n",
       "      <td>0.004293</td>\n",
       "      <td>0.003428</td>\n",
       "      <td>0.001733</td>\n",
       "      <td>0.000085</td>\n",
       "      <td>0.001938</td>\n",
       "      <td>0.000543</td>\n",
       "      <td>0.000036</td>\n",
       "      <td>0.003144</td>\n",
       "    </tr>\n",
       "    <tr>\n",
       "      <th>CID008474-1-TTTGTTGGTCTGTAAC</th>\n",
       "      <td>0.000002</td>\n",
       "      <td>0.000032</td>\n",
       "      <td>3.278364e-06</td>\n",
       "      <td>0.000049</td>\n",
       "      <td>0.000034</td>\n",
       "      <td>2.003824e-05</td>\n",
       "      <td>0.000009</td>\n",
       "      <td>8.062315e-07</td>\n",
       "      <td>3.239478e-06</td>\n",
       "      <td>0.000126</td>\n",
       "      <td>...</td>\n",
       "      <td>0.031374</td>\n",
       "      <td>0.000471</td>\n",
       "      <td>0.024172</td>\n",
       "      <td>0.029343</td>\n",
       "      <td>0.008556</td>\n",
       "      <td>0.000704</td>\n",
       "      <td>0.013287</td>\n",
       "      <td>0.003410</td>\n",
       "      <td>0.000076</td>\n",
       "      <td>0.018482</td>\n",
       "    </tr>\n",
       "  </tbody>\n",
       "</table>\n",
       "<p>7641 rows × 10962 columns</p>\n",
       "</div>"
      ],
      "text/plain": [
       "index                         AL669831.5     NOC2L    AL645608.7      HES4  \\\n",
       "CID005217-1-AAAGGTAAGAGTCAGC    0.000017  0.000065  5.876128e-06  0.000105   \n",
       "CID005217-1-AAAGTCCTCGAACGGA    0.000012  0.000119  5.865694e-07  0.000025   \n",
       "CID005217-1-AACAGGGAGTATTGCC    0.000013  0.000053  8.625745e-06  0.000144   \n",
       "CID005217-1-AACAGGGGTGAATGAT    0.000003  0.000073  1.821324e-05  0.000198   \n",
       "CID005217-1-AACCAACGTCATCGCG    0.000022  0.000028  1.714799e-05  0.000193   \n",
       "...                                  ...       ...           ...       ...   \n",
       "CID008474-1-TTTGGTTTCCGAACGC    0.000008  0.000049  1.170835e-05  0.000052   \n",
       "CID008474-1-TTTGGTTTCTGCGGGT    0.000002  0.000038  9.919897e-06  0.000039   \n",
       "CID008474-1-TTTGTTGAGTTACTCG    0.000004  0.000058  3.627549e-06  0.000012   \n",
       "CID008474-1-TTTGTTGCATGAGTAA    0.000001  0.000011  4.327467e-07  0.000004   \n",
       "CID008474-1-TTTGTTGGTCTGTAAC    0.000002  0.000032  3.278364e-06  0.000049   \n",
       "\n",
       "index                            ISG15          AGRN  C1orf159      TNFRSF18  \\\n",
       "CID005217-1-AAAGGTAAGAGTCAGC  0.000722  2.439715e-06  0.000008  2.201110e-04   \n",
       "CID005217-1-AAAGTCCTCGAACGGA  0.000356  5.896395e-07  0.000002  2.013530e-05   \n",
       "CID005217-1-AACAGGGAGTATTGCC  0.000239  1.460493e-05  0.000007  5.616678e-07   \n",
       "CID005217-1-AACAGGGGTGAATGAT  0.000547  5.153951e-06  0.000006  5.996793e-07   \n",
       "CID005217-1-AACCAACGTCATCGCG  0.001037  4.788163e-06  0.000014  6.143597e-06   \n",
       "...                                ...           ...       ...           ...   \n",
       "CID008474-1-TTTGGTTTCCGAACGC  0.000003  1.961287e-05  0.000009  4.355660e-08   \n",
       "CID008474-1-TTTGGTTTCTGCGGGT  0.000081  3.078964e-05  0.000006  9.610129e-06   \n",
       "CID008474-1-TTTGTTGAGTTACTCG  0.000002  1.071054e-05  0.000006  2.604720e-08   \n",
       "CID008474-1-TTTGTTGCATGAGTAA  0.000042  2.614254e-07  0.000001  6.667156e-05   \n",
       "CID008474-1-TTTGTTGGTCTGTAAC  0.000034  2.003824e-05  0.000009  8.062315e-07   \n",
       "\n",
       "index                              TNFRSF4      SDF4  ...    MT-CO2   MT-ATP8  \\\n",
       "CID005217-1-AAAGGTAAGAGTCAGC  1.980178e-04  0.000082  ...  0.027940  0.000657   \n",
       "CID005217-1-AAAGTCCTCGAACGGA  4.760188e-05  0.000049  ...  0.025681  0.000546   \n",
       "CID005217-1-AACAGGGAGTATTGCC  3.212670e-06  0.000142  ...  0.018660  0.000634   \n",
       "CID005217-1-AACAGGGGTGAATGAT  9.954584e-06  0.000166  ...  0.015394  0.000377   \n",
       "CID005217-1-AACCAACGTCATCGCG  1.402441e-05  0.000045  ...  0.010000  0.000154   \n",
       "...                                    ...       ...  ...       ...       ...   \n",
       "CID008474-1-TTTGGTTTCCGAACGC  1.502348e-07  0.000141  ...  0.022776  0.000349   \n",
       "CID008474-1-TTTGGTTTCTGCGGGT  6.978455e-05  0.000109  ...  0.028933  0.000440   \n",
       "CID008474-1-TTTGTTGAGTTACTCG  7.659744e-08  0.000117  ...  0.025616  0.000442   \n",
       "CID008474-1-TTTGTTGCATGAGTAA  3.100595e-05  0.000038  ...  0.004441  0.000047   \n",
       "CID008474-1-TTTGTTGGTCTGTAAC  3.239478e-06  0.000126  ...  0.031374  0.000471   \n",
       "\n",
       "index                          MT-ATP6    MT-CO3    MT-ND3   MT-ND4L  \\\n",
       "CID005217-1-AAAGGTAAGAGTCAGC  0.022610  0.028209  0.009248  0.001487   \n",
       "CID005217-1-AAAGTCCTCGAACGGA  0.019778  0.028585  0.008911  0.001371   \n",
       "CID005217-1-AACAGGGAGTATTGCC  0.019925  0.023273  0.011066  0.002101   \n",
       "CID005217-1-AACAGGGGTGAATGAT  0.015365  0.015147  0.007932  0.000917   \n",
       "CID005217-1-AACCAACGTCATCGCG  0.007023  0.010461  0.003313  0.000416   \n",
       "...                                ...       ...       ...       ...   \n",
       "CID008474-1-TTTGGTTTCCGAACGC  0.017909  0.021915  0.006868  0.000448   \n",
       "CID008474-1-TTTGGTTTCTGCGGGT  0.029836  0.030095  0.014066  0.000684   \n",
       "CID008474-1-TTTGTTGAGTTACTCG  0.024515  0.027960  0.007968  0.000461   \n",
       "CID008474-1-TTTGTTGCATGAGTAA  0.004293  0.003428  0.001733  0.000085   \n",
       "CID008474-1-TTTGTTGGTCTGTAAC  0.024172  0.029343  0.008556  0.000704   \n",
       "\n",
       "index                           MT-ND4    MT-ND5    MT-ND6    MT-CYB  \n",
       "CID005217-1-AAAGGTAAGAGTCAGC  0.018284  0.005753  0.000851  0.018065  \n",
       "CID005217-1-AAAGTCCTCGAACGGA  0.016550  0.005160  0.001305  0.015375  \n",
       "CID005217-1-AACAGGGAGTATTGCC  0.017411  0.004811  0.000274  0.017469  \n",
       "CID005217-1-AACAGGGGTGAATGAT  0.010788  0.003472  0.000170  0.013391  \n",
       "CID005217-1-AACCAACGTCATCGCG  0.006264  0.001569  0.000113  0.005558  \n",
       "...                                ...       ...       ...       ...  \n",
       "CID008474-1-TTTGGTTTCCGAACGC  0.010027  0.002449  0.000126  0.013183  \n",
       "CID008474-1-TTTGGTTTCTGCGGGT  0.016336  0.003297  0.000124  0.021657  \n",
       "CID008474-1-TTTGTTGAGTTACTCG  0.011672  0.003099  0.000211  0.016098  \n",
       "CID008474-1-TTTGTTGCATGAGTAA  0.001938  0.000543  0.000036  0.003144  \n",
       "CID008474-1-TTTGTTGGTCTGTAAC  0.013287  0.003410  0.000076  0.018482  \n",
       "\n",
       "[7641 rows x 10962 columns]"
      ]
     },
     "execution_count": 17,
     "metadata": {},
     "output_type": "execute_result"
    }
   ],
   "source": [
    "norms = vae.get_normalized_expression()\n",
    "norms"
   ]
  },
  {
   "cell_type": "code",
   "execution_count": 18,
   "metadata": {},
   "outputs": [
    {
     "data": {
      "text/plain": [
       "AnnData object with n_obs × n_vars = 7641 × 10962\n",
       "    obs: 'sampleID', 'barcode', 'doublet_score', 'n_genes_by_counts', 'log1p_n_genes_by_counts', 'total_counts', 'log1p_total_counts', 'pct_counts_in_top_20_genes', 'total_counts_mt', 'log1p_total_counts_mt', 'pct_counts_mt', 'total_counts_ribo', 'log1p_total_counts_ribo', 'pct_counts_ribo', 'total_counts_hb', 'log1p_total_counts_hb', 'pct_counts_hb', 'outlier', 'mt_outlier', '_scvi_batch', '_scvi_labels'\n",
       "    uns: 'sampleID_colors', '_scvi_uuid', '_scvi_manager_uuid', 'neighbors', 'umap'\n",
       "    obsm: 'X_scVI', 'X_umap'\n",
       "    layers: 'integrated'\n",
       "    obsp: 'distances', 'connectivities'"
      ]
     },
     "execution_count": 18,
     "metadata": {},
     "output_type": "execute_result"
    }
   ],
   "source": [
    "adata.layers['integrated'] = norms\n",
    "adata"
   ]
  },
  {
   "cell_type": "code",
   "execution_count": 19,
   "metadata": {},
   "outputs": [],
   "source": [
    "adata.write_h5ad(\"/mnt/c/Users/saman/00_Bachelorarbeit/Bachelor/data/output/adata_integrated.h5ad\")"
   ]
  },
  {
   "cell_type": "markdown",
   "metadata": {},
   "source": [
    "## Load Trained Model"
   ]
  },
  {
   "cell_type": "code",
   "execution_count": 2,
   "metadata": {},
   "outputs": [
    {
     "data": {
      "text/plain": [
       "AnnData object with n_obs × n_vars = 120901 × 9848\n",
       "    obs: 'sampID', 'PatientID', 'AnatomicLocation', 'PoolID', 'Protocol', 'CellsLoaded', 'FreezeProtocol', 'AnatomicLocation_Relation', 'AgeYM', 'Sex', 'Inflammation', 'sample_LMU_info_Timepoint', 'celltype', 'sequence', 'doublet_score', 'n_genes_by_counts', 'log1p_n_genes_by_counts', 'total_counts', 'log1p_total_counts', 'pct_counts_in_top_20_genes', 'total_counts_mt', 'log1p_total_counts_mt', 'pct_counts_mt', 'total_counts_ribo', 'log1p_total_counts_ribo', 'pct_counts_ribo', 'total_counts_hb', 'log1p_total_counts_hb', 'pct_counts_hb', 'outlier', 'mt_outlier', '_scvi_batch', '_scvi_labels'\n",
       "    uns: 'Protocol_colors', '_scvi_manager_uuid', '_scvi_uuid', 'celltype_colors', 'neighbors', 'umap'\n",
       "    obsm: 'X_scVI', 'X_umap'\n",
       "    obsp: 'connectivities', 'distances'"
      ]
     },
     "execution_count": 2,
     "metadata": {},
     "output_type": "execute_result"
    }
   ],
   "source": [
    "adata = anndata.read_h5ad(\"/mnt/c/Users/saman/gobi/gobi_sampleQC_batchQuant/data/adata_integrated_protocol.h5ad\")\n",
    "adata"
   ]
  },
  {
   "cell_type": "code",
   "execution_count": 3,
   "metadata": {},
   "outputs": [
    {
     "name": "stdout",
     "output_type": "stream",
     "text": [
      "\u001b[34mINFO    \u001b[0m File \u001b[35m/mnt/c/Users/saman/gobi/gobi_sampleQC_batchQuant/output/scvi_models/\u001b[0m\u001b[95mmodel.pt\u001b[0m already downloaded      \n"
     ]
    },
    {
     "name": "stderr",
     "output_type": "stream",
     "text": [
      "WARNING:jax._src.lib.xla_bridge:No GPU/TPU found, falling back to CPU. (Set TF_CPP_MIN_LOG_LEVEL=0 and rerun for more info.)\n"
     ]
    },
    {
     "data": {
      "text/html": [
       "<pre style=\"white-space:pre;overflow-x:auto;line-height:normal;font-family:Menlo,'DejaVu Sans Mono',consolas,'Courier New',monospace\">SCVI Model with the following params: \n",
       "n_hidden: <span style=\"color: #008080; text-decoration-color: #008080; font-weight: bold\">128</span>, n_latent: <span style=\"color: #008080; text-decoration-color: #008080; font-weight: bold\">30</span>, n_layers: <span style=\"color: #008080; text-decoration-color: #008080; font-weight: bold\">2</span>, dropout_rate: <span style=\"color: #008080; text-decoration-color: #008080; font-weight: bold\">0.1</span>, dispersion: gene, gene_likelihood: nb, \n",
       "latent_distribution: normal\n",
       "Training status: Trained\n",
       "Model's adata is minified?: <span style=\"color: #ff0000; text-decoration-color: #ff0000; font-style: italic\">False</span>\n",
       "</pre>\n"
      ],
      "text/plain": [
       "SCVI Model with the following params: \n",
       "n_hidden: \u001b[1;36m128\u001b[0m, n_latent: \u001b[1;36m30\u001b[0m, n_layers: \u001b[1;36m2\u001b[0m, dropout_rate: \u001b[1;36m0.1\u001b[0m, dispersion: gene, gene_likelihood: nb, \n",
       "latent_distribution: normal\n",
       "Training status: Trained\n",
       "Model's adata is minified?: \u001b[3;91mFalse\u001b[0m\n"
      ]
     },
     "metadata": {},
     "output_type": "display_data"
    },
    {
     "data": {
      "text/plain": []
     },
     "execution_count": 3,
     "metadata": {},
     "output_type": "execute_result"
    }
   ],
   "source": [
    "tester = scvi.model.SCVI.load('/mnt/c/Users/saman/gobi/gobi_sampleQC_batchQuant/output/scvi_models/', adata)\n",
    "tester"
   ]
  },
  {
   "cell_type": "code",
   "execution_count": 4,
   "metadata": {},
   "outputs": [
    {
     "data": {
      "text/html": [
       "<div>\n",
       "<style scoped>\n",
       "    .dataframe tbody tr th:only-of-type {\n",
       "        vertical-align: middle;\n",
       "    }\n",
       "\n",
       "    .dataframe tbody tr th {\n",
       "        vertical-align: top;\n",
       "    }\n",
       "\n",
       "    .dataframe thead th {\n",
       "        text-align: right;\n",
       "    }\n",
       "</style>\n",
       "<table border=\"1\" class=\"dataframe\">\n",
       "  <thead>\n",
       "    <tr style=\"text-align: right;\">\n",
       "      <th></th>\n",
       "      <th>AL669831.5</th>\n",
       "      <th>LINC00115</th>\n",
       "      <th>NOC2L</th>\n",
       "      <th>AL645608.7</th>\n",
       "      <th>HES4</th>\n",
       "      <th>ISG15</th>\n",
       "      <th>AGRN</th>\n",
       "      <th>C1orf159</th>\n",
       "      <th>TNFRSF18</th>\n",
       "      <th>TNFRSF4</th>\n",
       "      <th>...</th>\n",
       "      <th>MT-CO2</th>\n",
       "      <th>MT-ATP8</th>\n",
       "      <th>MT-ATP6</th>\n",
       "      <th>MT-CO3</th>\n",
       "      <th>MT-ND3</th>\n",
       "      <th>MT-ND4L</th>\n",
       "      <th>MT-ND4</th>\n",
       "      <th>MT-ND5</th>\n",
       "      <th>MT-ND6</th>\n",
       "      <th>MT-CYB</th>\n",
       "    </tr>\n",
       "  </thead>\n",
       "  <tbody>\n",
       "    <tr>\n",
       "      <th>CID005424-1:AAACCCATCGGTCGAC</th>\n",
       "      <td>0.000007</td>\n",
       "      <td>0.000005</td>\n",
       "      <td>0.000030</td>\n",
       "      <td>0.000160</td>\n",
       "      <td>0.000507</td>\n",
       "      <td>0.000181</td>\n",
       "      <td>0.000016</td>\n",
       "      <td>0.000006</td>\n",
       "      <td>1.915211e-06</td>\n",
       "      <td>0.000004</td>\n",
       "      <td>...</td>\n",
       "      <td>0.020163</td>\n",
       "      <td>0.000654</td>\n",
       "      <td>0.026502</td>\n",
       "      <td>0.028712</td>\n",
       "      <td>0.017233</td>\n",
       "      <td>0.001327</td>\n",
       "      <td>0.017222</td>\n",
       "      <td>0.003324</td>\n",
       "      <td>0.000147</td>\n",
       "      <td>0.016528</td>\n",
       "    </tr>\n",
       "    <tr>\n",
       "      <th>CID005424-1:AAACGAAGTATACGGG</th>\n",
       "      <td>0.000018</td>\n",
       "      <td>0.000017</td>\n",
       "      <td>0.000040</td>\n",
       "      <td>0.000014</td>\n",
       "      <td>0.000121</td>\n",
       "      <td>0.000187</td>\n",
       "      <td>0.000003</td>\n",
       "      <td>0.000009</td>\n",
       "      <td>8.711252e-05</td>\n",
       "      <td>0.000032</td>\n",
       "      <td>...</td>\n",
       "      <td>0.017718</td>\n",
       "      <td>0.000401</td>\n",
       "      <td>0.021152</td>\n",
       "      <td>0.019969</td>\n",
       "      <td>0.012145</td>\n",
       "      <td>0.000737</td>\n",
       "      <td>0.011285</td>\n",
       "      <td>0.002347</td>\n",
       "      <td>0.000288</td>\n",
       "      <td>0.012661</td>\n",
       "    </tr>\n",
       "    <tr>\n",
       "      <th>CID005424-1:AAACGAATCTCCAAGA</th>\n",
       "      <td>0.000010</td>\n",
       "      <td>0.000003</td>\n",
       "      <td>0.000035</td>\n",
       "      <td>0.000013</td>\n",
       "      <td>0.000076</td>\n",
       "      <td>0.000143</td>\n",
       "      <td>0.000003</td>\n",
       "      <td>0.000007</td>\n",
       "      <td>2.614773e-05</td>\n",
       "      <td>0.000010</td>\n",
       "      <td>...</td>\n",
       "      <td>0.009511</td>\n",
       "      <td>0.000337</td>\n",
       "      <td>0.010411</td>\n",
       "      <td>0.008595</td>\n",
       "      <td>0.008593</td>\n",
       "      <td>0.000573</td>\n",
       "      <td>0.007222</td>\n",
       "      <td>0.001691</td>\n",
       "      <td>0.000198</td>\n",
       "      <td>0.006544</td>\n",
       "    </tr>\n",
       "    <tr>\n",
       "      <th>CID005424-1:AAACGCTCAACTCGTA</th>\n",
       "      <td>0.000011</td>\n",
       "      <td>0.000005</td>\n",
       "      <td>0.000041</td>\n",
       "      <td>0.000005</td>\n",
       "      <td>0.000047</td>\n",
       "      <td>0.000142</td>\n",
       "      <td>0.000003</td>\n",
       "      <td>0.000005</td>\n",
       "      <td>2.180124e-05</td>\n",
       "      <td>0.000013</td>\n",
       "      <td>...</td>\n",
       "      <td>0.007524</td>\n",
       "      <td>0.000233</td>\n",
       "      <td>0.007431</td>\n",
       "      <td>0.007008</td>\n",
       "      <td>0.005068</td>\n",
       "      <td>0.000494</td>\n",
       "      <td>0.004841</td>\n",
       "      <td>0.001165</td>\n",
       "      <td>0.000166</td>\n",
       "      <td>0.004789</td>\n",
       "    </tr>\n",
       "    <tr>\n",
       "      <th>CID005424-1:AAACGCTGTAAGATCA</th>\n",
       "      <td>0.000006</td>\n",
       "      <td>0.000002</td>\n",
       "      <td>0.000043</td>\n",
       "      <td>0.000022</td>\n",
       "      <td>0.000247</td>\n",
       "      <td>0.000254</td>\n",
       "      <td>0.000001</td>\n",
       "      <td>0.000006</td>\n",
       "      <td>4.135365e-04</td>\n",
       "      <td>0.000517</td>\n",
       "      <td>...</td>\n",
       "      <td>0.013287</td>\n",
       "      <td>0.000310</td>\n",
       "      <td>0.015668</td>\n",
       "      <td>0.013947</td>\n",
       "      <td>0.007364</td>\n",
       "      <td>0.000441</td>\n",
       "      <td>0.007088</td>\n",
       "      <td>0.001474</td>\n",
       "      <td>0.000307</td>\n",
       "      <td>0.009252</td>\n",
       "    </tr>\n",
       "    <tr>\n",
       "      <th>...</th>\n",
       "      <td>...</td>\n",
       "      <td>...</td>\n",
       "      <td>...</td>\n",
       "      <td>...</td>\n",
       "      <td>...</td>\n",
       "      <td>...</td>\n",
       "      <td>...</td>\n",
       "      <td>...</td>\n",
       "      <td>...</td>\n",
       "      <td>...</td>\n",
       "      <td>...</td>\n",
       "      <td>...</td>\n",
       "      <td>...</td>\n",
       "      <td>...</td>\n",
       "      <td>...</td>\n",
       "      <td>...</td>\n",
       "      <td>...</td>\n",
       "      <td>...</td>\n",
       "      <td>...</td>\n",
       "      <td>...</td>\n",
       "      <td>...</td>\n",
       "    </tr>\n",
       "    <tr>\n",
       "      <th>CID005095-1:TTTGTCAAGAGTTGGC</th>\n",
       "      <td>0.000008</td>\n",
       "      <td>0.000005</td>\n",
       "      <td>0.000049</td>\n",
       "      <td>0.000007</td>\n",
       "      <td>0.000092</td>\n",
       "      <td>0.000362</td>\n",
       "      <td>0.000002</td>\n",
       "      <td>0.000011</td>\n",
       "      <td>3.560252e-04</td>\n",
       "      <td>0.000403</td>\n",
       "      <td>...</td>\n",
       "      <td>0.007120</td>\n",
       "      <td>0.000823</td>\n",
       "      <td>0.002704</td>\n",
       "      <td>0.005270</td>\n",
       "      <td>0.001737</td>\n",
       "      <td>0.002286</td>\n",
       "      <td>0.001670</td>\n",
       "      <td>0.001132</td>\n",
       "      <td>0.000189</td>\n",
       "      <td>0.004462</td>\n",
       "    </tr>\n",
       "    <tr>\n",
       "      <th>CID005095-1:TTTGTCAAGTACGCCC</th>\n",
       "      <td>0.000070</td>\n",
       "      <td>0.000088</td>\n",
       "      <td>0.000114</td>\n",
       "      <td>0.000007</td>\n",
       "      <td>0.000029</td>\n",
       "      <td>0.000056</td>\n",
       "      <td>0.000024</td>\n",
       "      <td>0.000044</td>\n",
       "      <td>5.013498e-06</td>\n",
       "      <td>0.000003</td>\n",
       "      <td>...</td>\n",
       "      <td>0.042082</td>\n",
       "      <td>0.006628</td>\n",
       "      <td>0.016184</td>\n",
       "      <td>0.041966</td>\n",
       "      <td>0.012205</td>\n",
       "      <td>0.010476</td>\n",
       "      <td>0.014321</td>\n",
       "      <td>0.007379</td>\n",
       "      <td>0.001666</td>\n",
       "      <td>0.026407</td>\n",
       "    </tr>\n",
       "    <tr>\n",
       "      <th>CID005095-1:TTTGTCACAGATCTGT</th>\n",
       "      <td>0.000002</td>\n",
       "      <td>0.000002</td>\n",
       "      <td>0.000078</td>\n",
       "      <td>0.000003</td>\n",
       "      <td>0.000030</td>\n",
       "      <td>0.000014</td>\n",
       "      <td>0.000014</td>\n",
       "      <td>0.000009</td>\n",
       "      <td>4.680051e-07</td>\n",
       "      <td>0.000001</td>\n",
       "      <td>...</td>\n",
       "      <td>0.023865</td>\n",
       "      <td>0.001393</td>\n",
       "      <td>0.006157</td>\n",
       "      <td>0.019150</td>\n",
       "      <td>0.006080</td>\n",
       "      <td>0.004394</td>\n",
       "      <td>0.006467</td>\n",
       "      <td>0.001973</td>\n",
       "      <td>0.000156</td>\n",
       "      <td>0.010838</td>\n",
       "    </tr>\n",
       "    <tr>\n",
       "      <th>CID005095-1:TTTGTCATCCTTGGTC</th>\n",
       "      <td>0.000005</td>\n",
       "      <td>0.000003</td>\n",
       "      <td>0.000068</td>\n",
       "      <td>0.000002</td>\n",
       "      <td>0.000015</td>\n",
       "      <td>0.000069</td>\n",
       "      <td>0.000001</td>\n",
       "      <td>0.000006</td>\n",
       "      <td>1.899480e-06</td>\n",
       "      <td>0.000006</td>\n",
       "      <td>...</td>\n",
       "      <td>0.009205</td>\n",
       "      <td>0.001396</td>\n",
       "      <td>0.003177</td>\n",
       "      <td>0.006963</td>\n",
       "      <td>0.002801</td>\n",
       "      <td>0.003386</td>\n",
       "      <td>0.002476</td>\n",
       "      <td>0.001013</td>\n",
       "      <td>0.000378</td>\n",
       "      <td>0.006047</td>\n",
       "    </tr>\n",
       "    <tr>\n",
       "      <th>CID005095-1:TTTGTCATCGTAGGTT</th>\n",
       "      <td>0.000019</td>\n",
       "      <td>0.000007</td>\n",
       "      <td>0.000064</td>\n",
       "      <td>0.000002</td>\n",
       "      <td>0.000004</td>\n",
       "      <td>0.000109</td>\n",
       "      <td>0.000002</td>\n",
       "      <td>0.000009</td>\n",
       "      <td>1.844222e-05</td>\n",
       "      <td>0.000009</td>\n",
       "      <td>...</td>\n",
       "      <td>0.005145</td>\n",
       "      <td>0.000576</td>\n",
       "      <td>0.002318</td>\n",
       "      <td>0.003316</td>\n",
       "      <td>0.001271</td>\n",
       "      <td>0.001846</td>\n",
       "      <td>0.001570</td>\n",
       "      <td>0.000903</td>\n",
       "      <td>0.000357</td>\n",
       "      <td>0.003176</td>\n",
       "    </tr>\n",
       "  </tbody>\n",
       "</table>\n",
       "<p>120901 rows × 9848 columns</p>\n",
       "</div>"
      ],
      "text/plain": [
       "                              AL669831.5  LINC00115     NOC2L  AL645608.7  \\\n",
       "CID005424-1:AAACCCATCGGTCGAC    0.000007   0.000005  0.000030    0.000160   \n",
       "CID005424-1:AAACGAAGTATACGGG    0.000018   0.000017  0.000040    0.000014   \n",
       "CID005424-1:AAACGAATCTCCAAGA    0.000010   0.000003  0.000035    0.000013   \n",
       "CID005424-1:AAACGCTCAACTCGTA    0.000011   0.000005  0.000041    0.000005   \n",
       "CID005424-1:AAACGCTGTAAGATCA    0.000006   0.000002  0.000043    0.000022   \n",
       "...                                  ...        ...       ...         ...   \n",
       "CID005095-1:TTTGTCAAGAGTTGGC    0.000008   0.000005  0.000049    0.000007   \n",
       "CID005095-1:TTTGTCAAGTACGCCC    0.000070   0.000088  0.000114    0.000007   \n",
       "CID005095-1:TTTGTCACAGATCTGT    0.000002   0.000002  0.000078    0.000003   \n",
       "CID005095-1:TTTGTCATCCTTGGTC    0.000005   0.000003  0.000068    0.000002   \n",
       "CID005095-1:TTTGTCATCGTAGGTT    0.000019   0.000007  0.000064    0.000002   \n",
       "\n",
       "                                  HES4     ISG15      AGRN  C1orf159  \\\n",
       "CID005424-1:AAACCCATCGGTCGAC  0.000507  0.000181  0.000016  0.000006   \n",
       "CID005424-1:AAACGAAGTATACGGG  0.000121  0.000187  0.000003  0.000009   \n",
       "CID005424-1:AAACGAATCTCCAAGA  0.000076  0.000143  0.000003  0.000007   \n",
       "CID005424-1:AAACGCTCAACTCGTA  0.000047  0.000142  0.000003  0.000005   \n",
       "CID005424-1:AAACGCTGTAAGATCA  0.000247  0.000254  0.000001  0.000006   \n",
       "...                                ...       ...       ...       ...   \n",
       "CID005095-1:TTTGTCAAGAGTTGGC  0.000092  0.000362  0.000002  0.000011   \n",
       "CID005095-1:TTTGTCAAGTACGCCC  0.000029  0.000056  0.000024  0.000044   \n",
       "CID005095-1:TTTGTCACAGATCTGT  0.000030  0.000014  0.000014  0.000009   \n",
       "CID005095-1:TTTGTCATCCTTGGTC  0.000015  0.000069  0.000001  0.000006   \n",
       "CID005095-1:TTTGTCATCGTAGGTT  0.000004  0.000109  0.000002  0.000009   \n",
       "\n",
       "                                  TNFRSF18   TNFRSF4  ...    MT-CO2   MT-ATP8  \\\n",
       "CID005424-1:AAACCCATCGGTCGAC  1.915211e-06  0.000004  ...  0.020163  0.000654   \n",
       "CID005424-1:AAACGAAGTATACGGG  8.711252e-05  0.000032  ...  0.017718  0.000401   \n",
       "CID005424-1:AAACGAATCTCCAAGA  2.614773e-05  0.000010  ...  0.009511  0.000337   \n",
       "CID005424-1:AAACGCTCAACTCGTA  2.180124e-05  0.000013  ...  0.007524  0.000233   \n",
       "CID005424-1:AAACGCTGTAAGATCA  4.135365e-04  0.000517  ...  0.013287  0.000310   \n",
       "...                                    ...       ...  ...       ...       ...   \n",
       "CID005095-1:TTTGTCAAGAGTTGGC  3.560252e-04  0.000403  ...  0.007120  0.000823   \n",
       "CID005095-1:TTTGTCAAGTACGCCC  5.013498e-06  0.000003  ...  0.042082  0.006628   \n",
       "CID005095-1:TTTGTCACAGATCTGT  4.680051e-07  0.000001  ...  0.023865  0.001393   \n",
       "CID005095-1:TTTGTCATCCTTGGTC  1.899480e-06  0.000006  ...  0.009205  0.001396   \n",
       "CID005095-1:TTTGTCATCGTAGGTT  1.844222e-05  0.000009  ...  0.005145  0.000576   \n",
       "\n",
       "                               MT-ATP6    MT-CO3    MT-ND3   MT-ND4L  \\\n",
       "CID005424-1:AAACCCATCGGTCGAC  0.026502  0.028712  0.017233  0.001327   \n",
       "CID005424-1:AAACGAAGTATACGGG  0.021152  0.019969  0.012145  0.000737   \n",
       "CID005424-1:AAACGAATCTCCAAGA  0.010411  0.008595  0.008593  0.000573   \n",
       "CID005424-1:AAACGCTCAACTCGTA  0.007431  0.007008  0.005068  0.000494   \n",
       "CID005424-1:AAACGCTGTAAGATCA  0.015668  0.013947  0.007364  0.000441   \n",
       "...                                ...       ...       ...       ...   \n",
       "CID005095-1:TTTGTCAAGAGTTGGC  0.002704  0.005270  0.001737  0.002286   \n",
       "CID005095-1:TTTGTCAAGTACGCCC  0.016184  0.041966  0.012205  0.010476   \n",
       "CID005095-1:TTTGTCACAGATCTGT  0.006157  0.019150  0.006080  0.004394   \n",
       "CID005095-1:TTTGTCATCCTTGGTC  0.003177  0.006963  0.002801  0.003386   \n",
       "CID005095-1:TTTGTCATCGTAGGTT  0.002318  0.003316  0.001271  0.001846   \n",
       "\n",
       "                                MT-ND4    MT-ND5    MT-ND6    MT-CYB  \n",
       "CID005424-1:AAACCCATCGGTCGAC  0.017222  0.003324  0.000147  0.016528  \n",
       "CID005424-1:AAACGAAGTATACGGG  0.011285  0.002347  0.000288  0.012661  \n",
       "CID005424-1:AAACGAATCTCCAAGA  0.007222  0.001691  0.000198  0.006544  \n",
       "CID005424-1:AAACGCTCAACTCGTA  0.004841  0.001165  0.000166  0.004789  \n",
       "CID005424-1:AAACGCTGTAAGATCA  0.007088  0.001474  0.000307  0.009252  \n",
       "...                                ...       ...       ...       ...  \n",
       "CID005095-1:TTTGTCAAGAGTTGGC  0.001670  0.001132  0.000189  0.004462  \n",
       "CID005095-1:TTTGTCAAGTACGCCC  0.014321  0.007379  0.001666  0.026407  \n",
       "CID005095-1:TTTGTCACAGATCTGT  0.006467  0.001973  0.000156  0.010838  \n",
       "CID005095-1:TTTGTCATCCTTGGTC  0.002476  0.001013  0.000378  0.006047  \n",
       "CID005095-1:TTTGTCATCGTAGGTT  0.001570  0.000903  0.000357  0.003176  \n",
       "\n",
       "[120901 rows x 9848 columns]"
      ]
     },
     "execution_count": 4,
     "metadata": {},
     "output_type": "execute_result"
    }
   ],
   "source": [
    "norms = tester.get_normalized_expression()\n",
    "norms"
   ]
  },
  {
   "cell_type": "code",
   "execution_count": 5,
   "metadata": {},
   "outputs": [
    {
     "data": {
      "text/plain": [
       "AnnData object with n_obs × n_vars = 120901 × 9848\n",
       "    obs: 'sampID', 'PatientID', 'AnatomicLocation', 'PoolID', 'Protocol', 'CellsLoaded', 'FreezeProtocol', 'AnatomicLocation_Relation', 'AgeYM', 'Sex', 'Inflammation', 'sample_LMU_info_Timepoint', 'celltype', 'sequence', 'doublet_score', 'n_genes_by_counts', 'log1p_n_genes_by_counts', 'total_counts', 'log1p_total_counts', 'pct_counts_in_top_20_genes', 'total_counts_mt', 'log1p_total_counts_mt', 'pct_counts_mt', 'total_counts_ribo', 'log1p_total_counts_ribo', 'pct_counts_ribo', 'total_counts_hb', 'log1p_total_counts_hb', 'pct_counts_hb', 'outlier', 'mt_outlier', '_scvi_batch', '_scvi_labels'\n",
       "    uns: 'Protocol_colors', '_scvi_manager_uuid', '_scvi_uuid', 'celltype_colors', 'neighbors', 'umap'\n",
       "    obsm: 'X_scVI', 'X_umap'\n",
       "    layers: 'integrated'\n",
       "    obsp: 'connectivities', 'distances'"
      ]
     },
     "execution_count": 5,
     "metadata": {},
     "output_type": "execute_result"
    }
   ],
   "source": [
    "adata.layers['integrated'] = norms\n",
    "adata"
   ]
  },
  {
   "cell_type": "code",
   "execution_count": 6,
   "metadata": {},
   "outputs": [],
   "source": [
    "adata.write_h5ad(\"/mnt/c/Users/saman/gobi/gobi_sampleQC_batchQuant/data/adata_integrated_protocol.h5ad\")"
   ]
  }
 ],
 "metadata": {
  "kernelspec": {
   "display_name": "Python 3 (ipykernel)",
   "language": "python",
   "name": "python3"
  },
  "language_info": {
   "codemirror_mode": {
    "name": "ipython",
    "version": 3
   },
   "file_extension": ".py",
   "mimetype": "text/x-python",
   "name": "python",
   "nbconvert_exporter": "python",
   "pygments_lexer": "ipython3",
   "version": "3.9.16"
  },
  "vscode": {
   "interpreter": {
    "hash": "ba5712850c05e2170b8aec528fb6854701ce54e0e6cc501879da00827d448a35"
   }
  }
 },
 "nbformat": 4,
 "nbformat_minor": 1
}
