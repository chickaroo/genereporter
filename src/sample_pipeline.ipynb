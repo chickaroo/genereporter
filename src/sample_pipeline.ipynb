{
 "cells": [
  {
   "cell_type": "markdown",
   "metadata": {},
   "source": [
    "# Using Sample-Level Pipeline\n",
    "\n",
    "## A sample-level (patient-level) visualization of the gene and cell-type of interest. "
   ]
  },
  {
   "cell_type": "code",
   "execution_count": null,
   "metadata": {
    "vscode": {
     "languageId": "plaintext"
    }
   },
   "outputs": [],
   "source": [
    "from genereporter.cell_pipeline import SamplePipeline\n",
    "\n",
    "sp = SamplePipeline(\"/Users/samibening/Projects/genereporter/\", \"data/output/adata.h5ad\")\n",
    "adata = sp.get_adata()\n",
    "adata"
   ]
  }
 ],
 "metadata": {
  "language_info": {
   "name": "python"
  }
 },
 "nbformat": 4,
 "nbformat_minor": 2
}
